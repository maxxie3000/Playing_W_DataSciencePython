{
 "cells": [
  {
   "cell_type": "markdown",
   "metadata": {},
   "source": [
    "## Exercise 48: Predicting Avocade Price Using Neural Networks "
   ]
  },
  {
   "cell_type": "code",
   "execution_count": 1,
   "metadata": {
    "scrolled": true
   },
   "outputs": [
    {
     "name": "stdout",
     "output_type": "stream",
     "text": [
      "<class 'pandas.core.frame.DataFrame'>\n",
      "RangeIndex: 18249 entries, 0 to 18248\n",
      "Data columns (total 14 columns):\n",
      " #   Column        Non-Null Count  Dtype  \n",
      "---  ------        --------------  -----  \n",
      " 0   Unnamed: 0    18249 non-null  int64  \n",
      " 1   Date          18249 non-null  object \n",
      " 2   AveragePrice  18249 non-null  float64\n",
      " 3   Total Volume  18249 non-null  float64\n",
      " 4   4046          18249 non-null  float64\n",
      " 5   4225          18249 non-null  float64\n",
      " 6   4770          18249 non-null  float64\n",
      " 7   Total Bags    18249 non-null  float64\n",
      " 8   Small Bags    18249 non-null  float64\n",
      " 9   Large Bags    18249 non-null  float64\n",
      " 10  XLarge Bags   18249 non-null  float64\n",
      " 11  type          18249 non-null  object \n",
      " 12  year          18249 non-null  int64  \n",
      " 13  region        18249 non-null  object \n",
      "dtypes: float64(9), int64(2), object(3)\n",
      "memory usage: 1.9+ MB\n"
     ]
    }
   ],
   "source": [
    "import pandas as pd \n",
    "import numpy as np \n",
    "\n",
    "data = pd.read_csv('data/avocado.csv')\n",
    "data.info()"
   ]
  },
  {
   "cell_type": "code",
   "execution_count": 2,
   "metadata": {},
   "outputs": [],
   "source": [
    "#Split the data column into days and months\n",
    "data['Day'], data['Month'] = data.Date.str[:2], data.Date.str[3:5]\n",
    "#drop date and unnamed\n",
    "data = data.drop(['Unnamed: 0', 'Date'], axis = 1)"
   ]
  },
  {
   "cell_type": "code",
   "execution_count": 3,
   "metadata": {},
   "outputs": [],
   "source": [
    "#Use LabelEncoder for categorical variables \n",
    "from sklearn.preprocessing import LabelEncoder \n",
    "from collections import defaultdict \n",
    "\n",
    "#Create label dictionary \n",
    "label_dict = defaultdict(LabelEncoder)\n",
    "\n",
    "data[['region', 'type', 'Day', 'Month', 'year']] = data[['region', 'type', 'Day', 'Month', 'year']]\\\n",
    "                                                   .apply(lambda x: label_dict[x.name].fit_transform(x))"
   ]
  },
  {
   "cell_type": "code",
   "execution_count": 4,
   "metadata": {},
   "outputs": [],
   "source": [
    "#Split the data into training and test data \n",
    "from sklearn.model_selection import train_test_split\n",
    "\n",
    "X = data \n",
    "y = X.pop('AveragePrice')\n",
    "\n",
    "X_train, X_test, y_train, y_test = train_test_split(X, y, test_size=0.3, random_state=9)"
   ]
  },
  {
   "cell_type": "code",
   "execution_count": 11,
   "metadata": {},
   "outputs": [],
   "source": [
    "#Use callbacks to save the model whenever the loss improves and for early stoppping of the model \n",
    "from keras.callbacks import ModelCheckpoint, EarlyStopping \n",
    "\n",
    "filepath = 'Models/avocado-{epoch:02d}-{val_loss:.2f}.hdf5'\n",
    "\n",
    "model_ckpt = ModelCheckpoint(filepath, monitor='val_loss', verbose=1, save_best_only=True, mode='auto')\n",
    "es = EarlyStopping(monitor='val_loss', min_delta=1, patience=50, verbose=1)\n",
    "\n",
    "callbacks = [model_ckpt, es]"
   ]
  },
  {
   "cell_type": "code",
   "execution_count": 12,
   "metadata": {},
   "outputs": [],
   "source": [
    "from keras.models import Sequential \n",
    "from keras.layers import Dense \n",
    "\n",
    "model = Sequential()\n",
    "model.add(Dense(units=16, activation='relu', input_dim=13))\n",
    "model.add(Dense(units=8, activation='relu'))\n",
    "model.add(Dense(units=1, activation='linear'))\n",
    "model.compile(loss='mse', optimizer='adam')"
   ]
  },
  {
   "cell_type": "code",
   "execution_count": 13,
   "metadata": {},
   "outputs": [
    {
     "name": "stdout",
     "output_type": "stream",
     "text": [
      "Epoch 1/1000\n",
      "350/400 [=========================>....] - ETA: 0s - loss: 15954251776.0000\n",
      "Epoch 00001: val_loss improved from inf to 96683760.00000, saving model to Models/avocado-01-96683760.00.hdf5\n",
      "400/400 [==============================] - 0s 1ms/step - loss: 13998217216.0000 - val_loss: 96683760.0000\n",
      "Epoch 2/1000\n",
      "397/400 [============================>.] - ETA: 0s - loss: 62163376.0000\n",
      "Epoch 00002: val_loss improved from 96683760.00000 to 32917598.00000, saving model to Models/avocado-02-32917598.00.hdf5\n",
      "400/400 [==============================] - 0s 1ms/step - loss: 61860688.0000 - val_loss: 32917598.0000\n",
      "Epoch 3/1000\n",
      "334/400 [========================>.....] - ETA: 0s - loss: 23715368.0000\n",
      "Epoch 00003: val_loss improved from 32917598.00000 to 17382458.00000, saving model to Models/avocado-03-17382458.00.hdf5\n",
      "400/400 [==============================] - 0s 1ms/step - loss: 22542842.0000 - val_loss: 17382458.0000\n",
      "Epoch 4/1000\n",
      "341/400 [========================>.....] - ETA: 0s - loss: 12932757.0000\n",
      "Epoch 00004: val_loss improved from 17382458.00000 to 11247030.00000, saving model to Models/avocado-04-11247030.00.hdf5\n",
      "400/400 [==============================] - 0s 1ms/step - loss: 11965252.0000 - val_loss: 11247030.0000\n",
      "Epoch 5/1000\n",
      "339/400 [========================>.....] - ETA: 0s - loss: 8348099.0000\n",
      "Epoch 00005: val_loss improved from 11247030.00000 to 7799512.50000, saving model to Models/avocado-05-7799512.50.hdf5\n",
      "400/400 [==============================] - 0s 1ms/step - loss: 7846459.5000 - val_loss: 7799512.5000\n",
      "Epoch 6/1000\n",
      "355/400 [=========================>....] - ETA: 0s - loss: 5576243.5000\n",
      "Epoch 00006: val_loss improved from 7799512.50000 to 5672617.50000, saving model to Models/avocado-06-5672617.50.hdf5\n",
      "400/400 [==============================] - 0s 1ms/step - loss: 5434926.5000 - val_loss: 5672617.5000\n",
      "Epoch 7/1000\n",
      "348/400 [=========================>....] - ETA: 0s - loss: 3912975.0000\n",
      "Epoch 00007: val_loss improved from 5672617.50000 to 4250729.50000, saving model to Models/avocado-07-4250729.50.hdf5\n",
      "400/400 [==============================] - 0s 1ms/step - loss: 3831865.5000 - val_loss: 4250729.5000\n",
      "Epoch 8/1000\n",
      "338/400 [========================>.....] - ETA: 0s - loss: 3016558.0000\n",
      "Epoch 00008: val_loss improved from 4250729.50000 to 3252420.50000, saving model to Models/avocado-08-3252420.50.hdf5\n",
      "400/400 [==============================] - 0s 1ms/step - loss: 2739719.2500 - val_loss: 3252420.5000\n",
      "Epoch 9/1000\n",
      "344/400 [========================>.....] - ETA: 0s - loss: 1853683.5000\n",
      "Epoch 00009: val_loss improved from 3252420.50000 to 2458867.25000, saving model to Models/avocado-09-2458867.25.hdf5\n",
      "400/400 [==============================] - 0s 1ms/step - loss: 1997484.7500 - val_loss: 2458867.2500\n",
      "Epoch 10/1000\n",
      "341/400 [========================>.....] - ETA: 0s - loss: 1460492.5000\n",
      "Epoch 00010: val_loss improved from 2458867.25000 to 1805599.12500, saving model to Models/avocado-10-1805599.12.hdf5\n",
      "400/400 [==============================] - 0s 1ms/step - loss: 1420192.8750 - val_loss: 1805599.1250\n",
      "Epoch 11/1000\n",
      "353/400 [=========================>....] - ETA: 0s - loss: 1012163.2500\n",
      "Epoch 00011: val_loss improved from 1805599.12500 to 1326767.00000, saving model to Models/avocado-11-1326767.00.hdf5\n",
      "400/400 [==============================] - 0s 1ms/step - loss: 981576.1250 - val_loss: 1326767.0000\n",
      "Epoch 12/1000\n",
      "344/400 [========================>.....] - ETA: 0s - loss: 673660.8750\n",
      "Epoch 00012: val_loss improved from 1326767.00000 to 967204.56250, saving model to Models/avocado-12-967204.56.hdf5\n",
      "400/400 [==============================] - 0s 1ms/step - loss: 662168.5625 - val_loss: 967204.5625\n",
      "Epoch 13/1000\n",
      "346/400 [========================>.....] - ETA: 0s - loss: 477877.2812\n",
      "Epoch 00013: val_loss improved from 967204.56250 to 701440.25000, saving model to Models/avocado-13-701440.25.hdf5\n",
      "400/400 [==============================] - 0s 1ms/step - loss: 440338.7500 - val_loss: 701440.2500\n",
      "Epoch 14/1000\n",
      "333/400 [=======================>......] - ETA: 0s - loss: 263768.6875\n",
      "Epoch 00014: val_loss improved from 701440.25000 to 510967.21875, saving model to Models/avocado-14-510967.22.hdf5\n",
      "400/400 [==============================] - 0s 1ms/step - loss: 291191.3750 - val_loss: 510967.2188\n",
      "Epoch 15/1000\n",
      "336/400 [========================>.....] - ETA: 0s - loss: 205293.5938\n",
      "Epoch 00015: val_loss improved from 510967.21875 to 374532.96875, saving model to Models/avocado-15-374532.97.hdf5\n",
      "400/400 [==============================] - 0s 1ms/step - loss: 191908.4062 - val_loss: 374532.9688\n",
      "Epoch 16/1000\n",
      "392/400 [============================>.] - ETA: 0s - loss: 130186.2422\n",
      "Epoch 00016: val_loss improved from 374532.96875 to 275529.90625, saving model to Models/avocado-16-275529.91.hdf5\n",
      "400/400 [==============================] - 0s 1ms/step - loss: 128464.4766 - val_loss: 275529.9062\n",
      "Epoch 17/1000\n",
      "336/400 [========================>.....] - ETA: 0s - loss: 98503.6641 \n",
      "Epoch 00017: val_loss improved from 275529.90625 to 205140.62500, saving model to Models/avocado-17-205140.62.hdf5\n",
      "400/400 [==============================] - 0s 1ms/step - loss: 88272.8672 - val_loss: 205140.6250\n",
      "Epoch 18/1000\n",
      "332/400 [=======================>......] - ETA: 0s - loss: 67367.2500\n",
      "Epoch 00018: val_loss improved from 205140.62500 to 151867.95312, saving model to Models/avocado-18-151867.95.hdf5\n",
      "400/400 [==============================] - 0s 1ms/step - loss: 62635.6484 - val_loss: 151867.9531\n",
      "Epoch 19/1000\n",
      "334/400 [========================>.....] - ETA: 0s - loss: 46157.1758\n",
      "Epoch 00019: val_loss improved from 151867.95312 to 110021.44531, saving model to Models/avocado-19-110021.45.hdf5\n",
      "400/400 [==============================] - 0s 1ms/step - loss: 44493.0469 - val_loss: 110021.4453\n",
      "Epoch 20/1000\n",
      "349/400 [=========================>....] - ETA: 0s - loss: 29525.0781\n",
      "Epoch 00020: val_loss improved from 110021.44531 to 79469.56250, saving model to Models/avocado-20-79469.56.hdf5\n",
      "400/400 [==============================] - 0s 1ms/step - loss: 31288.7949 - val_loss: 79469.5625\n",
      "Epoch 21/1000\n",
      "329/400 [=======================>......] - ETA: 0s - loss: 22621.0254\n",
      "Epoch 00021: val_loss improved from 79469.56250 to 55755.00391, saving model to Models/avocado-21-55755.00.hdf5\n",
      "400/400 [==============================] - 0s 1ms/step - loss: 21985.4199 - val_loss: 55755.0039\n",
      "Epoch 22/1000\n",
      "344/400 [========================>.....] - ETA: 0s - loss: 15422.3604\n",
      "Epoch 00022: val_loss improved from 55755.00391 to 39043.26562, saving model to Models/avocado-22-39043.27.hdf5\n",
      "400/400 [==============================] - 0s 1ms/step - loss: 15507.0420 - val_loss: 39043.2656\n",
      "Epoch 23/1000\n",
      "345/400 [========================>.....] - ETA: 0s - loss: 11283.1221\n",
      "Epoch 00023: val_loss improved from 39043.26562 to 27877.20703, saving model to Models/avocado-23-27877.21.hdf5\n",
      "400/400 [==============================] - 0s 1ms/step - loss: 11274.5293 - val_loss: 27877.2070\n",
      "Epoch 24/1000\n",
      "391/400 [============================>.] - ETA: 0s - loss: 8475.9375\n",
      "Epoch 00024: val_loss improved from 27877.20703 to 19226.20703, saving model to Models/avocado-24-19226.21.hdf5\n",
      "400/400 [==============================] - 0s 1ms/step - loss: 8337.2119 - val_loss: 19226.2070\n",
      "Epoch 25/1000\n",
      "342/400 [========================>.....] - ETA: 0s - loss: 6541.6201\n",
      "Epoch 00025: val_loss improved from 19226.20703 to 13372.23145, saving model to Models/avocado-25-13372.23.hdf5\n",
      "400/400 [==============================] - 0s 1ms/step - loss: 6245.4634 - val_loss: 13372.2314\n",
      "Epoch 26/1000\n",
      "398/400 [============================>.] - ETA: 0s - loss: 4794.2627\n",
      "Epoch 00026: val_loss improved from 13372.23145 to 9107.66797, saving model to Models/avocado-26-9107.67.hdf5\n",
      "400/400 [==============================] - 0s 1ms/step - loss: 4780.0029 - val_loss: 9107.6680\n",
      "Epoch 27/1000\n",
      "333/400 [=======================>......] - ETA: 0s - loss: 4083.1963\n",
      "Epoch 00027: val_loss improved from 9107.66797 to 6309.89062, saving model to Models/avocado-27-6309.89.hdf5\n",
      "400/400 [==============================] - 0s 1ms/step - loss: 3715.7695 - val_loss: 6309.8906\n",
      "Epoch 28/1000\n",
      "382/400 [===========================>..] - ETA: 0s - loss: 3019.1133\n",
      "Epoch 00028: val_loss improved from 6309.89062 to 4511.00195, saving model to Models/avocado-28-4511.00.hdf5\n",
      "400/400 [==============================] - 0s 1ms/step - loss: 2948.7988 - val_loss: 4511.0020\n"
     ]
    },
    {
     "name": "stdout",
     "output_type": "stream",
     "text": [
      "Epoch 29/1000\n",
      "336/400 [========================>.....] - ETA: 0s - loss: 2609.7283\n",
      "Epoch 00029: val_loss improved from 4511.00195 to 3330.49414, saving model to Models/avocado-29-3330.49.hdf5\n",
      "400/400 [==============================] - 0s 1ms/step - loss: 2376.5859 - val_loss: 3330.4941\n",
      "Epoch 30/1000\n",
      "374/400 [===========================>..] - ETA: 0s - loss: 2016.9131\n",
      "Epoch 00030: val_loss improved from 3330.49414 to 2368.42310, saving model to Models/avocado-30-2368.42.hdf5\n",
      "400/400 [==============================] - 1s 1ms/step - loss: 1911.7429 - val_loss: 2368.4231\n",
      "Epoch 31/1000\n",
      "347/400 [=========================>....] - ETA: 0s - loss: 1382.9622\n",
      "Epoch 00031: val_loss improved from 2368.42310 to 1560.13538, saving model to Models/avocado-31-1560.14.hdf5\n",
      "400/400 [==============================] - 0s 1ms/step - loss: 1486.0372 - val_loss: 1560.1354\n",
      "Epoch 32/1000\n",
      "354/400 [=========================>....] - ETA: 0s - loss: 1155.7751\n",
      "Epoch 00032: val_loss improved from 1560.13538 to 961.78766, saving model to Models/avocado-32-961.79.hdf5\n",
      "400/400 [==============================] - 0s 1ms/step - loss: 1094.4481 - val_loss: 961.7877\n",
      "Epoch 33/1000\n",
      "354/400 [=========================>....] - ETA: 0s - loss: 808.1705\n",
      "Epoch 00033: val_loss improved from 961.78766 to 629.74969, saving model to Models/avocado-33-629.75.hdf5\n",
      "400/400 [==============================] - 0s 1ms/step - loss: 790.4955 - val_loss: 629.7497\n",
      "Epoch 34/1000\n",
      "354/400 [=========================>....] - ETA: 0s - loss: 567.6766\n",
      "Epoch 00034: val_loss improved from 629.74969 to 428.43414, saving model to Models/avocado-34-428.43.hdf5\n",
      "400/400 [==============================] - 0s 1ms/step - loss: 551.7721 - val_loss: 428.4341\n",
      "Epoch 35/1000\n",
      "336/400 [========================>.....] - ETA: 0s - loss: 413.2136\n",
      "Epoch 00035: val_loss improved from 428.43414 to 282.50946, saving model to Models/avocado-35-282.51.hdf5\n",
      "400/400 [==============================] - 0s 1ms/step - loss: 377.4488 - val_loss: 282.5095\n",
      "Epoch 36/1000\n",
      "388/400 [============================>.] - ETA: 0s - loss: 251.1115\n",
      "Epoch 00036: val_loss improved from 282.50946 to 185.54208, saving model to Models/avocado-36-185.54.hdf5\n",
      "400/400 [==============================] - 0s 1ms/step - loss: 252.9877 - val_loss: 185.5421\n",
      "Epoch 37/1000\n",
      "351/400 [=========================>....] - ETA: 0s - loss: 166.6001\n",
      "Epoch 00037: val_loss improved from 185.54208 to 124.02901, saving model to Models/avocado-37-124.03.hdf5\n",
      "400/400 [==============================] - 0s 1ms/step - loss: 170.5916 - val_loss: 124.0290\n",
      "Epoch 38/1000\n",
      "337/400 [========================>.....] - ETA: 0s - loss: 133.7390\n",
      "Epoch 00038: val_loss improved from 124.02901 to 83.00867, saving model to Models/avocado-38-83.01.hdf5\n",
      "400/400 [==============================] - 0s 1ms/step - loss: 117.2775 - val_loss: 83.0087\n",
      "Epoch 39/1000\n",
      "347/400 [=========================>....] - ETA: 0s - loss: 93.4473\n",
      "Epoch 00039: val_loss improved from 83.00867 to 55.30167, saving model to Models/avocado-39-55.30.hdf5\n",
      "400/400 [==============================] - 0s 1ms/step - loss: 82.0120 - val_loss: 55.3017\n",
      "Epoch 40/1000\n",
      "354/400 [=========================>....] - ETA: 0s - loss: 52.8552\n",
      "Epoch 00040: val_loss improved from 55.30167 to 35.66161, saving model to Models/avocado-40-35.66.hdf5\n",
      "400/400 [==============================] - 0s 1ms/step - loss: 57.1913 - val_loss: 35.6616\n",
      "Epoch 41/1000\n",
      "339/400 [========================>.....] - ETA: 0s - loss: 44.7018\n",
      "Epoch 00041: val_loss improved from 35.66161 to 22.89777, saving model to Models/avocado-41-22.90.hdf5\n",
      "400/400 [==============================] - 0s 1ms/step - loss: 39.0174 - val_loss: 22.8978\n",
      "Epoch 42/1000\n",
      "351/400 [=========================>....] - ETA: 0s - loss: 27.9869\n",
      "Epoch 00042: val_loss improved from 22.89777 to 14.58799, saving model to Models/avocado-42-14.59.hdf5\n",
      "400/400 [==============================] - 0s 1ms/step - loss: 26.9477 - val_loss: 14.5880\n",
      "Epoch 43/1000\n",
      "340/400 [========================>.....] - ETA: 0s - loss: 21.3333\n",
      "Epoch 00043: val_loss improved from 14.58799 to 8.77637, saving model to Models/avocado-43-8.78.hdf5\n",
      "400/400 [==============================] - 0s 1ms/step - loss: 18.5802 - val_loss: 8.7764\n",
      "Epoch 44/1000\n",
      "357/400 [=========================>....] - ETA: 0s - loss: 9.7715 \n",
      "Epoch 00044: val_loss improved from 8.77637 to 5.19151, saving model to Models/avocado-44-5.19.hdf5\n",
      "400/400 [==============================] - 0s 1ms/step - loss: 12.4363 - val_loss: 5.1915\n",
      "Epoch 45/1000\n",
      "352/400 [=========================>....] - ETA: 0s - loss: 8.6196\n",
      "Epoch 00045: val_loss improved from 5.19151 to 2.69943, saving model to Models/avocado-45-2.70.hdf5\n",
      "400/400 [==============================] - 0s 1ms/step - loss: 8.2829 - val_loss: 2.6994\n",
      "Epoch 46/1000\n",
      "349/400 [=========================>....] - ETA: 0s - loss: 5.9925\n",
      "Epoch 00046: val_loss improved from 2.69943 to 1.48883, saving model to Models/avocado-46-1.49.hdf5\n",
      "400/400 [==============================] - 0s 1ms/step - loss: 5.6683 - val_loss: 1.4888\n",
      "Epoch 47/1000\n",
      "351/400 [=========================>....] - ETA: 0s - loss: 3.4409\n",
      "Epoch 00047: val_loss improved from 1.48883 to 0.76043, saving model to Models/avocado-47-0.76.hdf5\n",
      "400/400 [==============================] - 0s 1ms/step - loss: 4.0291 - val_loss: 0.7604\n",
      "Epoch 48/1000\n",
      "390/400 [============================>.] - ETA: 0s - loss: 2.7655\n",
      "Epoch 00048: val_loss improved from 0.76043 to 0.43243, saving model to Models/avocado-48-0.43.hdf5\n",
      "400/400 [==============================] - 0s 1ms/step - loss: 2.9662 - val_loss: 0.4324\n",
      "Epoch 49/1000\n",
      "351/400 [=========================>....] - ETA: 0s - loss: 2.2613\n",
      "Epoch 00049: val_loss improved from 0.43243 to 0.30857, saving model to Models/avocado-49-0.31.hdf5\n",
      "400/400 [==============================] - 0s 997us/step - loss: 2.3446 - val_loss: 0.3086\n",
      "Epoch 50/1000\n",
      "332/400 [=======================>......] - ETA: 0s - loss: 1.7677\n",
      "Epoch 00050: val_loss improved from 0.30857 to 0.25948, saving model to Models/avocado-50-0.26.hdf5\n",
      "400/400 [==============================] - 0s 1ms/step - loss: 1.8358 - val_loss: 0.2595\n",
      "Epoch 51/1000\n",
      "360/400 [==========================>...] - ETA: 0s - loss: 1.1738\n",
      "Epoch 00051: val_loss improved from 0.25948 to 0.21907, saving model to Models/avocado-51-0.22.hdf5\n",
      "400/400 [==============================] - 0s 1ms/step - loss: 1.3956 - val_loss: 0.2191\n",
      "Epoch 52/1000\n",
      "341/400 [========================>.....] - ETA: 0s - loss: 1.1978\n",
      "Epoch 00052: val_loss improved from 0.21907 to 0.19552, saving model to Models/avocado-52-0.20.hdf5\n",
      "400/400 [==============================] - 0s 1ms/step - loss: 1.0465 - val_loss: 0.1955\n",
      "Epoch 53/1000\n",
      "353/400 [=========================>....] - ETA: 0s - loss: 0.7874\n",
      "Epoch 00053: val_loss improved from 0.19552 to 0.17376, saving model to Models/avocado-53-0.17.hdf5\n",
      "400/400 [==============================] - 0s 1ms/step - loss: 0.7152 - val_loss: 0.1738\n",
      "Epoch 54/1000\n",
      "336/400 [========================>.....] - ETA: 0s - loss: 0.5428\n",
      "Epoch 00054: val_loss improved from 0.17376 to 0.16937, saving model to Models/avocado-54-0.17.hdf5\n",
      "400/400 [==============================] - 0s 1ms/step - loss: 0.4819 - val_loss: 0.1694\n",
      "Epoch 55/1000\n",
      "337/400 [========================>.....] - ETA: 0s - loss: 0.2967\n",
      "Epoch 00055: val_loss improved from 0.16937 to 0.16841, saving model to Models/avocado-55-0.17.hdf5\n",
      "400/400 [==============================] - 0s 1ms/step - loss: 0.3466 - val_loss: 0.1684\n",
      "Epoch 56/1000\n",
      "351/400 [=========================>....] - ETA: 0s - loss: 0.2794\n",
      "Epoch 00056: val_loss improved from 0.16841 to 0.16743, saving model to Models/avocado-56-0.17.hdf5\n",
      "400/400 [==============================] - 0s 1ms/step - loss: 0.2678 - val_loss: 0.1674\n",
      "Epoch 57/1000\n",
      "343/400 [========================>.....] - ETA: 0s - loss: 0.1947\n",
      "Epoch 00057: val_loss improved from 0.16743 to 0.16738, saving model to Models/avocado-57-0.17.hdf5\n",
      "400/400 [==============================] - 0s 1ms/step - loss: 0.2106 - val_loss: 0.1674\n",
      "Epoch 58/1000\n",
      "357/400 [=========================>....] - ETA: 0s - loss: 0.1757\n",
      "Epoch 00058: val_loss did not improve from 0.16738\n",
      "400/400 [==============================] - 0s 961us/step - loss: 0.1909 - val_loss: 0.1674\n",
      "Epoch 59/1000\n"
     ]
    },
    {
     "name": "stdout",
     "output_type": "stream",
     "text": [
      "346/400 [========================>.....] - ETA: 0s - loss: 0.1808\n",
      "Epoch 00059: val_loss did not improve from 0.16738\n",
      "400/400 [==============================] - 0s 991us/step - loss: 0.1782 - val_loss: 0.1675\n",
      "Epoch 60/1000\n",
      "393/400 [============================>.] - ETA: 0s - loss: 0.1704\n",
      "Epoch 00060: val_loss did not improve from 0.16738\n",
      "400/400 [==============================] - 0s 1ms/step - loss: 0.1703 - val_loss: 0.1676\n",
      "Epoch 61/1000\n",
      "346/400 [========================>.....] - ETA: 0s - loss: 0.1700\n",
      "Epoch 00061: val_loss did not improve from 0.16738\n",
      "400/400 [==============================] - 0s 983us/step - loss: 0.1681 - val_loss: 0.1676\n",
      "Epoch 62/1000\n",
      "345/400 [========================>.....] - ETA: 0s - loss: 0.1623\n",
      "Epoch 00062: val_loss did not improve from 0.16738\n",
      "400/400 [==============================] - 0s 986us/step - loss: 0.1650 - val_loss: 0.1676\n",
      "Epoch 63/1000\n",
      "353/400 [=========================>....] - ETA: 0s - loss: 0.1606\n",
      "Epoch 00063: val_loss did not improve from 0.16738\n",
      "400/400 [==============================] - 0s 962us/step - loss: 0.1633 - val_loss: 0.1676\n",
      "Epoch 64/1000\n",
      "357/400 [=========================>....] - ETA: 0s - loss: 0.1610\n",
      "Epoch 00064: val_loss did not improve from 0.16738\n",
      "400/400 [==============================] - 0s 984us/step - loss: 0.1621 - val_loss: 0.1675\n",
      "Epoch 65/1000\n",
      "392/400 [============================>.] - ETA: 0s - loss: 0.1616\n",
      "Epoch 00065: val_loss did not improve from 0.16738\n",
      "400/400 [==============================] - 0s 1ms/step - loss: 0.1620 - val_loss: 0.1676\n",
      "Epoch 66/1000\n",
      "358/400 [=========================>....] - ETA: 0s - loss: 0.1629\n",
      "Epoch 00066: val_loss did not improve from 0.16738\n",
      "400/400 [==============================] - 0s 962us/step - loss: 0.1619 - val_loss: 0.1674\n",
      "Epoch 67/1000\n",
      "342/400 [========================>.....] - ETA: 0s - loss: 0.1617\n",
      "Epoch 00067: val_loss did not improve from 0.16738\n",
      "400/400 [==============================] - 0s 980us/step - loss: 0.1619 - val_loss: 0.1675\n",
      "Epoch 68/1000\n",
      "366/400 [==========================>...] - ETA: 0s - loss: 0.1622\n",
      "Epoch 00068: val_loss did not improve from 0.16738\n",
      "400/400 [==============================] - 0s 941us/step - loss: 0.1619 - val_loss: 0.1674\n",
      "Epoch 69/1000\n",
      "352/400 [=========================>....] - ETA: 0s - loss: 0.1622\n",
      "Epoch 00069: val_loss improved from 0.16738 to 0.16731, saving model to Models/avocado-69-0.17.hdf5\n",
      "400/400 [==============================] - 0s 1ms/step - loss: 0.1618 - val_loss: 0.1673\n",
      "Epoch 70/1000\n",
      "339/400 [========================>.....] - ETA: 0s - loss: 0.1604\n",
      "Epoch 00070: val_loss improved from 0.16731 to 0.16730, saving model to Models/avocado-70-0.17.hdf5\n",
      "400/400 [==============================] - 0s 1ms/step - loss: 0.1618 - val_loss: 0.1673\n",
      "Epoch 71/1000\n",
      "355/400 [=========================>....] - ETA: 0s - loss: 0.1617\n",
      "Epoch 00071: val_loss did not improve from 0.16730\n",
      "400/400 [==============================] - 0s 965us/step - loss: 0.1618 - val_loss: 0.1676\n",
      "Epoch 72/1000\n",
      "348/400 [=========================>....] - ETA: 0s - loss: 0.1614\n",
      "Epoch 00072: val_loss did not improve from 0.16730\n",
      "400/400 [==============================] - 0s 983us/step - loss: 0.1618 - val_loss: 0.1675\n",
      "Epoch 73/1000\n",
      "336/400 [========================>.....] - ETA: 0s - loss: 0.1613\n",
      "Epoch 00073: val_loss improved from 0.16730 to 0.16729, saving model to Models/avocado-73-0.17.hdf5\n",
      "400/400 [==============================] - 0s 1ms/step - loss: 0.1618 - val_loss: 0.1673\n",
      "Epoch 74/1000\n",
      "343/400 [========================>.....] - ETA: 0s - loss: 0.1616\n",
      "Epoch 00074: val_loss did not improve from 0.16729\n",
      "400/400 [==============================] - 0s 996us/step - loss: 0.1618 - val_loss: 0.1676\n",
      "Epoch 75/1000\n",
      "352/400 [=========================>....] - ETA: 0s - loss: 0.1631\n",
      "Epoch 00075: val_loss did not improve from 0.16729\n",
      "400/400 [==============================] - 0s 960us/step - loss: 0.1618 - val_loss: 0.1674\n",
      "Epoch 76/1000\n",
      "360/400 [==========================>...] - ETA: 0s - loss: 0.1617\n",
      "Epoch 00076: val_loss did not improve from 0.16729\n",
      "400/400 [==============================] - 0s 953us/step - loss: 0.1618 - val_loss: 0.1674\n",
      "Epoch 77/1000\n",
      "352/400 [=========================>....] - ETA: 0s - loss: 0.1618\n",
      "Epoch 00077: val_loss did not improve from 0.16729\n",
      "400/400 [==============================] - 0s 971us/step - loss: 0.1618 - val_loss: 0.1674\n",
      "Epoch 78/1000\n",
      "345/400 [========================>.....] - ETA: 0s - loss: 0.1619\n",
      "Epoch 00078: val_loss did not improve from 0.16729\n",
      "400/400 [==============================] - 0s 976us/step - loss: 0.1618 - val_loss: 0.1673\n",
      "Epoch 79/1000\n",
      "358/400 [=========================>....] - ETA: 0s - loss: 0.1621\n",
      "Epoch 00079: val_loss improved from 0.16729 to 0.16726, saving model to Models/avocado-79-0.17.hdf5\n",
      "400/400 [==============================] - 0s 990us/step - loss: 0.1618 - val_loss: 0.1673\n",
      "Epoch 80/1000\n",
      "333/400 [=======================>......] - ETA: 0s - loss: 0.1606\n",
      "Epoch 00080: val_loss did not improve from 0.16726\n",
      "400/400 [==============================] - 0s 999us/step - loss: 0.1618 - val_loss: 0.1673\n",
      "Epoch 81/1000\n",
      "357/400 [=========================>....] - ETA: 0s - loss: 0.1610\n",
      "Epoch 00081: val_loss did not improve from 0.16726\n",
      "400/400 [==============================] - 0s 956us/step - loss: 0.1618 - val_loss: 0.1673\n",
      "Epoch 82/1000\n",
      "354/400 [=========================>....] - ETA: 0s - loss: 0.1619\n",
      "Epoch 00082: val_loss did not improve from 0.16726\n",
      "400/400 [==============================] - 0s 964us/step - loss: 0.1618 - val_loss: 0.1675\n",
      "Epoch 83/1000\n",
      "343/400 [========================>.....] - ETA: 0s - loss: 0.1608\n",
      "Epoch 00083: val_loss did not improve from 0.16726\n",
      "400/400 [==============================] - 0s 974us/step - loss: 0.1617 - val_loss: 0.1678\n",
      "Epoch 84/1000\n",
      "360/400 [==========================>...] - ETA: 0s - loss: 0.1616\n",
      "Epoch 00084: val_loss did not improve from 0.16726\n",
      "400/400 [==============================] - 0s 956us/step - loss: 0.1618 - val_loss: 0.1675\n",
      "Epoch 85/1000\n",
      "386/400 [===========================>..] - ETA: 0s - loss: 0.1613\n",
      "Epoch 00085: val_loss did not improve from 0.16726\n",
      "400/400 [==============================] - 0s 1ms/step - loss: 0.1618 - val_loss: 0.1675\n",
      "Epoch 86/1000\n",
      "343/400 [========================>.....] - ETA: 0s - loss: 0.1631\n",
      "Epoch 00086: val_loss did not improve from 0.16726\n",
      "400/400 [==============================] - 0s 1ms/step - loss: 0.1618 - val_loss: 0.1675\n",
      "Epoch 87/1000\n",
      "331/400 [=======================>......] - ETA: 0s - loss: 0.1606\n",
      "Epoch 00087: val_loss did not improve from 0.16726\n",
      "400/400 [==============================] - 0s 1ms/step - loss: 0.1618 - val_loss: 0.1674\n",
      "Epoch 88/1000\n",
      "364/400 [==========================>...] - ETA: 0s - loss: 0.1618\n",
      "Epoch 00088: val_loss did not improve from 0.16726\n",
      "400/400 [==============================] - 0s 942us/step - loss: 0.1618 - val_loss: 0.1674\n",
      "Epoch 89/1000\n",
      "358/400 [=========================>....] - ETA: 0s - loss: 0.1622\n",
      "Epoch 00089: val_loss did not improve from 0.16726\n",
      "400/400 [==============================] - 0s 961us/step - loss: 0.1618 - val_loss: 0.1673\n",
      "Epoch 90/1000\n",
      "353/400 [=========================>....] - ETA: 0s - loss: 0.1622\n",
      "Epoch 00090: val_loss did not improve from 0.16726\n",
      "400/400 [==============================] - 0s 981us/step - loss: 0.1618 - val_loss: 0.1675\n",
      "Epoch 91/1000\n",
      "341/400 [========================>.....] - ETA: 0s - loss: 0.1612\n",
      "Epoch 00091: val_loss did not improve from 0.16726\n",
      "400/400 [==============================] - 0s 982us/step - loss: 0.1618 - val_loss: 0.1673\n",
      "Epoch 92/1000\n",
      "362/400 [==========================>...] - ETA: 0s - loss: 0.1623\n",
      "Epoch 00092: val_loss did not improve from 0.16726\n",
      "400/400 [==============================] - 0s 955us/step - loss: 0.1618 - val_loss: 0.1675\n",
      "Epoch 93/1000\n",
      "352/400 [=========================>....] - ETA: 0s - loss: 0.1621\n",
      "Epoch 00093: val_loss did not improve from 0.16726\n",
      "400/400 [==============================] - 0s 971us/step - loss: 0.1618 - val_loss: 0.1674\n",
      "Epoch 94/1000\n",
      "356/400 [=========================>....] - ETA: 0s - loss: 0.1606\n",
      "Epoch 00094: val_loss did not improve from 0.16726\n",
      "400/400 [==============================] - 0s 957us/step - loss: 0.1618 - val_loss: 0.1675\n",
      "Epoch 95/1000\n"
     ]
    },
    {
     "name": "stdout",
     "output_type": "stream",
     "text": [
      "361/400 [==========================>...] - ETA: 0s - loss: 0.1608\n",
      "Epoch 00095: val_loss did not improve from 0.16726\n",
      "400/400 [==============================] - 0s 947us/step - loss: 0.1618 - val_loss: 0.1673\n",
      "Epoch 96/1000\n",
      "351/400 [=========================>....] - ETA: 0s - loss: 0.1609\n",
      "Epoch 00096: val_loss did not improve from 0.16726\n",
      "400/400 [==============================] - 0s 966us/step - loss: 0.1618 - val_loss: 0.1674\n",
      "Epoch 97/1000\n",
      "347/400 [=========================>....] - ETA: 0s - loss: 0.1618\n",
      "Epoch 00097: val_loss did not improve from 0.16726\n",
      "400/400 [==============================] - 0s 973us/step - loss: 0.1618 - val_loss: 0.1673\n",
      "Epoch 98/1000\n",
      "355/400 [=========================>....] - ETA: 0s - loss: 0.1610\n",
      "Epoch 00098: val_loss did not improve from 0.16726\n",
      "400/400 [==============================] - 0s 955us/step - loss: 0.1618 - val_loss: 0.1674\n",
      "Epoch 00098: early stopping\n",
      "172/172 [==============================] - 0s 572us/step - loss: 0.1674\n"
     ]
    },
    {
     "data": {
      "text/plain": [
       "0.1674385964870453"
      ]
     },
     "execution_count": 13,
     "metadata": {},
     "output_type": "execute_result"
    }
   ],
   "source": [
    "model.fit(X_train, y_train, validation_data=(X_test, y_test), epochs=1000, batch_size=32, callbacks=callbacks)\n",
    "model.evaluate(X_test, y_test)"
   ]
  },
  {
   "cell_type": "code",
   "execution_count": 14,
   "metadata": {},
   "outputs": [
    {
     "name": "stdout",
     "output_type": "stream",
     "text": [
      "172/172 [==============================] - 0s 572us/step - loss: 0.1674\n"
     ]
    },
    {
     "data": {
      "text/plain": [
       "0.1674385964870453"
      ]
     },
     "execution_count": 14,
     "metadata": {},
     "output_type": "execute_result"
    }
   ],
   "source": [
    "results = model.evaluate(X_test, y_test)\n",
    "results"
   ]
  },
  {
   "cell_type": "code",
   "execution_count": 10,
   "metadata": {},
   "outputs": [
    {
     "data": {
      "text/plain": [
       "['loss']"
      ]
     },
     "execution_count": 10,
     "metadata": {},
     "output_type": "execute_result"
    }
   ],
   "source": [
    "model.metrics_names"
   ]
  },
  {
   "cell_type": "markdown",
   "metadata": {},
   "source": [
    "## Exercise 49: Predicting Avocado Price Using Entity Embedding"
   ]
  },
  {
   "cell_type": "code",
   "execution_count": 1,
   "metadata": {
    "scrolled": true
   },
   "outputs": [
    {
     "name": "stdout",
     "output_type": "stream",
     "text": [
      "<class 'pandas.core.frame.DataFrame'>\n",
      "RangeIndex: 18249 entries, 0 to 18248\n",
      "Data columns (total 14 columns):\n",
      " #   Column        Non-Null Count  Dtype  \n",
      "---  ------        --------------  -----  \n",
      " 0   Unnamed: 0    18249 non-null  int64  \n",
      " 1   Date          18249 non-null  object \n",
      " 2   AveragePrice  18249 non-null  float64\n",
      " 3   Total Volume  18249 non-null  float64\n",
      " 4   4046          18249 non-null  float64\n",
      " 5   4225          18249 non-null  float64\n",
      " 6   4770          18249 non-null  float64\n",
      " 7   Total Bags    18249 non-null  float64\n",
      " 8   Small Bags    18249 non-null  float64\n",
      " 9   Large Bags    18249 non-null  float64\n",
      " 10  XLarge Bags   18249 non-null  float64\n",
      " 11  type          18249 non-null  object \n",
      " 12  year          18249 non-null  int64  \n",
      " 13  region        18249 non-null  object \n",
      "dtypes: float64(9), int64(2), object(3)\n",
      "memory usage: 1.9+ MB\n"
     ]
    }
   ],
   "source": [
    "import pandas as pd \n",
    "import numpy as np \n",
    "\n",
    "data = pd.read_csv('data/avocado.csv')\n",
    "data.info()\n",
    "data = data.dropna()"
   ]
  },
  {
   "cell_type": "code",
   "execution_count": 2,
   "metadata": {},
   "outputs": [],
   "source": [
    "#Split the data column into days and months\n",
    "data['Day'], data['Month'] = data.Date.str[:2], data.Date.str[3:5]\n",
    "#drop date and unnamed\n",
    "data = data.drop(['Unnamed: 0', 'Date'], axis = 1)"
   ]
  },
  {
   "cell_type": "code",
   "execution_count": 3,
   "metadata": {},
   "outputs": [],
   "source": [
    "#Use LabelEncoder for categorical variables \n",
    "from sklearn.preprocessing import LabelEncoder \n",
    "from collections import defaultdict \n",
    "\n",
    "#Create label dictionary \n",
    "label_dict = defaultdict(LabelEncoder)\n",
    "\n",
    "data[['region', 'type', 'Day', 'Month', 'year']] = data[['region', 'type', 'Day', 'Month', 'year']]\\\n",
    "                                                   .apply(lambda x: label_dict[x.name].fit_transform(x))"
   ]
  },
  {
   "cell_type": "code",
   "execution_count": 4,
   "metadata": {},
   "outputs": [],
   "source": [
    "#Split the data into training and test data \n",
    "from sklearn.model_selection import train_test_split\n",
    "\n",
    "X = data \n",
    "y = X.pop('AveragePrice')\n",
    "\n",
    "X_train, X_test, y_train, y_test = train_test_split(X, y, test_size=0.3, random_state=9)"
   ]
  },
  {
   "cell_type": "code",
   "execution_count": 5,
   "metadata": {},
   "outputs": [],
   "source": [
    "#Create a dictionary that maps categorical column names to the unique values in them \n",
    "cat_cols_dict = {col: list(data[col].unique()) for col in ['region', 'type', 'Day', 'Month', 'year']}"
   ]
  },
  {
   "cell_type": "code",
   "execution_count": 6,
   "metadata": {},
   "outputs": [
    {
     "data": {
      "text/plain": [
       "[array([53, 21,  2, ..., 42, 16,  9]),\n",
       " array([0, 1, 1, ..., 0, 1, 0]),\n",
       " array([ 7, 16, 24, ..., 23,  1,  9]),\n",
       " array([4, 3, 1, ..., 6, 7, 4]),\n",
       " array([1, 1, 3, ..., 1, 0, 0]),\n",
       " array([[1.05294048e+06, 6.23286740e+05, 1.83588620e+05, ...,\n",
       "         1.24984250e+05, 8.35601900e+04, 4.29667000e+03],\n",
       "        [2.00015400e+04, 2.83014000e+03, 1.35565700e+04, ...,\n",
       "         3.47320000e+02, 3.26751000e+03, 0.00000000e+00],\n",
       "        [4.74211500e+04, 1.62630000e+03, 7.91327000e+03, ...,\n",
       "         3.78221300e+04, 1.00000000e+01, 0.00000000e+00],\n",
       "        ...,\n",
       "        [8.17357280e+05, 1.58290860e+05, 5.27450530e+05, ...,\n",
       "         7.28537700e+04, 1.01394000e+03, 1.39861000e+03],\n",
       "        [2.72836000e+03, 6.96300000e+01, 1.98740000e+02, ...,\n",
       "         2.44855000e+03, 0.00000000e+00, 0.00000000e+00],\n",
       "        [2.59598760e+05, 1.19823900e+04, 1.72173770e+05, ...,\n",
       "         2.25069200e+04, 5.02650400e+04, 2.62550000e+02]])]"
      ]
     },
     "execution_count": 6,
     "metadata": {},
     "output_type": "execute_result"
    }
   ],
   "source": [
    "#Get the input data in the format the embedding neural network will accept \n",
    "train_input_list = []\n",
    "test_input_list = []\n",
    "\n",
    "for col in cat_cols_dict.keys():\n",
    "    raw_values = np.unique(data[col])\n",
    "    value_map = {}\n",
    "    for i in range(len(raw_values)):\n",
    "        value_map[raw_values[i]] = i\n",
    "    train_input_list.append(X_train[col].map(value_map).values)\n",
    "    test_input_list.append(X_test[col].map(value_map).fillna(0).values)\n",
    "\n",
    "other_cols = [col for col in data.columns if (not col in cat_cols_dict.keys())]\n",
    "train_input_list.append(X_train[other_cols].values)\n",
    "test_input_list.append(X_test[other_cols].values)\n",
    "\n",
    "train_input_list"
   ]
  },
  {
   "cell_type": "code",
   "execution_count": 7,
   "metadata": {},
   "outputs": [],
   "source": [
    "cols_out_dict = {'region':12, \n",
    "                 'type': 1,\n",
    "                 'Day': 10,\n",
    "                 'Month': 3,\n",
    "                 'year': 1}"
   ]
  },
  {
   "cell_type": "code",
   "execution_count": 8,
   "metadata": {},
   "outputs": [],
   "source": [
    "#Now we create the embedding layers for the categorical variables \n",
    "from keras.models import Model\n",
    "from keras.layers import Input, Dense, Concatenate, Reshape, Dropout\n",
    "from keras.layers.embeddings import Embedding\n",
    "\n",
    "inputs = []\n",
    "embeddings = []\n",
    "\n",
    "for col in cat_cols_dict.keys():\n",
    "    inp = Input(shape=(1,), name = f'input_{col}')\n",
    "    embedding = Embedding(len(cat_cols_dict[col]), cols_out_dict[col], input_length=1, name=f'embedding_{col}')(inp)\n",
    "    embedding = Reshape(target_shape=(cols_out_dict[col],))(embedding)\n",
    "    inputs.append(inp)\n",
    "    embeddings.append(embedding)"
   ]
  },
  {
   "cell_type": "code",
   "execution_count": 9,
   "metadata": {},
   "outputs": [
    {
     "name": "stdout",
     "output_type": "stream",
     "text": [
      "Model: \"functional_1\"\n",
      "__________________________________________________________________________________________________\n",
      "Layer (type)                    Output Shape         Param #     Connected to                     \n",
      "==================================================================================================\n",
      "input_region (InputLayer)       [(None, 1)]          0                                            \n",
      "__________________________________________________________________________________________________\n",
      "input_type (InputLayer)         [(None, 1)]          0                                            \n",
      "__________________________________________________________________________________________________\n",
      "input_Day (InputLayer)          [(None, 1)]          0                                            \n",
      "__________________________________________________________________________________________________\n",
      "input_Month (InputLayer)        [(None, 1)]          0                                            \n",
      "__________________________________________________________________________________________________\n",
      "input_year (InputLayer)         [(None, 1)]          0                                            \n",
      "__________________________________________________________________________________________________\n",
      "embedding_region (Embedding)    (None, 1, 12)        648         input_region[0][0]               \n",
      "__________________________________________________________________________________________________\n",
      "embedding_type (Embedding)      (None, 1, 1)         2           input_type[0][0]                 \n",
      "__________________________________________________________________________________________________\n",
      "embedding_Day (Embedding)       (None, 1, 10)        310         input_Day[0][0]                  \n",
      "__________________________________________________________________________________________________\n",
      "embedding_Month (Embedding)     (None, 1, 3)         36          input_Month[0][0]                \n",
      "__________________________________________________________________________________________________\n",
      "embedding_year (Embedding)      (None, 1, 1)         4           input_year[0][0]                 \n",
      "__________________________________________________________________________________________________\n",
      "input_1 (InputLayer)            [(None, 8)]          0                                            \n",
      "__________________________________________________________________________________________________\n",
      "reshape (Reshape)               (None, 12)           0           embedding_region[0][0]           \n",
      "__________________________________________________________________________________________________\n",
      "reshape_1 (Reshape)             (None, 1)            0           embedding_type[0][0]             \n",
      "__________________________________________________________________________________________________\n",
      "reshape_2 (Reshape)             (None, 10)           0           embedding_Day[0][0]              \n",
      "__________________________________________________________________________________________________\n",
      "reshape_3 (Reshape)             (None, 3)            0           embedding_Month[0][0]            \n",
      "__________________________________________________________________________________________________\n",
      "reshape_4 (Reshape)             (None, 1)            0           embedding_year[0][0]             \n",
      "__________________________________________________________________________________________________\n",
      "dense (Dense)                   (None, 16)           144         input_1[0][0]                    \n",
      "__________________________________________________________________________________________________\n",
      "concatenate (Concatenate)       (None, 43)           0           reshape[0][0]                    \n",
      "                                                                 reshape_1[0][0]                  \n",
      "                                                                 reshape_2[0][0]                  \n",
      "                                                                 reshape_3[0][0]                  \n",
      "                                                                 reshape_4[0][0]                  \n",
      "                                                                 dense[0][0]                      \n",
      "__________________________________________________________________________________________________\n",
      "dense_1 (Dense)                 (None, 16)           704         concatenate[0][0]                \n",
      "__________________________________________________________________________________________________\n",
      "dense_2 (Dense)                 (None, 4)            68          dense_1[0][0]                    \n",
      "__________________________________________________________________________________________________\n",
      "dense_3 (Dense)                 (None, 1)            5           dense_2[0][0]                    \n",
      "==================================================================================================\n",
      "Total params: 1,921\n",
      "Trainable params: 1,921\n",
      "Non-trainable params: 0\n",
      "__________________________________________________________________________________________________\n"
     ]
    }
   ],
   "source": [
    "input_numeric = Input(shape=(8, ))\n",
    "embedding_numeric = Dense(16)(input_numeric)\n",
    "inputs.append(input_numeric)\n",
    "embeddings.append(embedding_numeric)\n",
    "\n",
    "x = Concatenate()(embeddings)\n",
    "x = Dense(16, activation='relu')(x)\n",
    "x = Dense(4, activation='relu')(x)\n",
    "output = Dense(1, activation='linear')(x)\n",
    "\n",
    "model = Model(inputs, output)\n",
    "model.compile(loss='mse', optimizer='adam')\n",
    "\n",
    "model.summary()"
   ]
  },
  {
   "cell_type": "code",
   "execution_count": 10,
   "metadata": {},
   "outputs": [
    {
     "name": "stdout",
     "output_type": "stream",
     "text": [
      "Epoch 1/50\n",
      "400/400 [==============================] - 1s 2ms/step - loss: 298655842304.0000 - val_loss: 579930176.0000\n",
      "Epoch 2/50\n",
      "400/400 [==============================] - 1s 1ms/step - loss: 491214112.0000 - val_loss: 437478368.0000\n",
      "Epoch 3/50\n",
      "400/400 [==============================] - 1s 1ms/step - loss: 320238976.0000 - val_loss: 222775760.0000\n",
      "Epoch 4/50\n",
      "400/400 [==============================] - 1s 1ms/step - loss: 215002448.0000 - val_loss: 145548320.0000\n",
      "Epoch 5/50\n",
      "400/400 [==============================] - 1s 1ms/step - loss: 181297216.0000 - val_loss: 107870744.0000\n",
      "Epoch 6/50\n",
      "400/400 [==============================] - 1s 1ms/step - loss: 143366560.0000 - val_loss: 108308232.0000\n",
      "Epoch 7/50\n",
      "400/400 [==============================] - 1s 1ms/step - loss: 73185568.0000 - val_loss: 48038888.0000\n",
      "Epoch 8/50\n",
      "400/400 [==============================] - 1s 1ms/step - loss: 56736324.0000 - val_loss: 41787180.0000\n",
      "Epoch 9/50\n",
      "400/400 [==============================] - 1s 1ms/step - loss: 52071036.0000 - val_loss: 22365468.0000\n",
      "Epoch 10/50\n",
      "400/400 [==============================] - 1s 1ms/step - loss: 23878022.0000 - val_loss: 37515192.0000\n",
      "Epoch 11/50\n",
      "400/400 [==============================] - 1s 1ms/step - loss: 56309092.0000 - val_loss: 228679680.0000\n",
      "Epoch 12/50\n",
      "400/400 [==============================] - 1s 1ms/step - loss: 733400256.0000 - val_loss: 7852.9702\n",
      "Epoch 13/50\n",
      "400/400 [==============================] - 1s 1ms/step - loss: 11130.4863 - val_loss: 7559.1636\n",
      "Epoch 14/50\n",
      "400/400 [==============================] - 1s 1ms/step - loss: 8438.7412 - val_loss: 7777.9873\n",
      "Epoch 15/50\n",
      "400/400 [==============================] - 1s 1ms/step - loss: 7434.8228 - val_loss: 8006.9233\n",
      "Epoch 16/50\n",
      "400/400 [==============================] - 1s 1ms/step - loss: 6863.8955 - val_loss: 8110.2778\n",
      "Epoch 17/50\n",
      "400/400 [==============================] - 1s 1ms/step - loss: 6596.6025 - val_loss: 8107.7749\n",
      "Epoch 18/50\n",
      "400/400 [==============================] - 1s 1ms/step - loss: 6402.7383 - val_loss: 8050.8706\n",
      "Epoch 19/50\n",
      "400/400 [==============================] - 1s 1ms/step - loss: 6204.3354 - val_loss: 7858.3892\n",
      "Epoch 20/50\n",
      "400/400 [==============================] - 1s 1ms/step - loss: 6025.7197 - val_loss: 7630.0776\n",
      "Epoch 21/50\n",
      "400/400 [==============================] - 1s 1ms/step - loss: 5818.8452 - val_loss: 7404.7832\n",
      "Epoch 22/50\n",
      "400/400 [==============================] - 1s 1ms/step - loss: 5561.6445 - val_loss: 7020.3872\n",
      "Epoch 23/50\n",
      "400/400 [==============================] - 1s 1ms/step - loss: 5272.4009 - val_loss: 6615.6147\n",
      "Epoch 24/50\n",
      "400/400 [==============================] - 1s 1ms/step - loss: 4956.6733 - val_loss: 6188.7876\n",
      "Epoch 25/50\n",
      "400/400 [==============================] - 1s 1ms/step - loss: 4605.3179 - val_loss: 5672.2671\n",
      "Epoch 26/50\n",
      "400/400 [==============================] - 1s 1ms/step - loss: 4230.1436 - val_loss: 5058.9878\n",
      "Epoch 27/50\n",
      "400/400 [==============================] - 1s 2ms/step - loss: 3850.0391 - val_loss: 4528.5562\n",
      "Epoch 28/50\n",
      "400/400 [==============================] - 1s 1ms/step - loss: 3460.1599 - val_loss: 4064.5056\n",
      "Epoch 29/50\n",
      "400/400 [==============================] - 1s 1ms/step - loss: 3034.5105 - val_loss: 3785.2964\n",
      "Epoch 30/50\n",
      "400/400 [==============================] - 1s 1ms/step - loss: 2628.3176 - val_loss: 3257.4922\n",
      "Epoch 31/50\n",
      "400/400 [==============================] - 1s 1ms/step - loss: 2214.1331 - val_loss: 2823.3152\n",
      "Epoch 32/50\n",
      "400/400 [==============================] - 1s 1ms/step - loss: 1796.9625 - val_loss: 2294.7764\n",
      "Epoch 33/50\n",
      "400/400 [==============================] - 1s 1ms/step - loss: 1458.2040 - val_loss: 2098.1721\n",
      "Epoch 34/50\n",
      "400/400 [==============================] - 1s 1ms/step - loss: 1138.4316 - val_loss: 1610.0493\n",
      "Epoch 35/50\n",
      "400/400 [==============================] - 1s 1ms/step - loss: 890.6583 - val_loss: 1366.8152\n",
      "Epoch 36/50\n",
      "400/400 [==============================] - 1s 1ms/step - loss: 678.9606 - val_loss: 1067.8051\n",
      "Epoch 37/50\n",
      "400/400 [==============================] - 1s 1ms/step - loss: 515.9699 - val_loss: 789.1385\n",
      "Epoch 38/50\n",
      "400/400 [==============================] - 1s 1ms/step - loss: 381.6171 - val_loss: 561.7906\n",
      "Epoch 39/50\n",
      "400/400 [==============================] - 1s 1ms/step - loss: 286.3424 - val_loss: 400.6657\n",
      "Epoch 40/50\n",
      "400/400 [==============================] - 1s 1ms/step - loss: 211.5271 - val_loss: 274.6928\n",
      "Epoch 41/50\n",
      "400/400 [==============================] - 1s 1ms/step - loss: 157.2702 - val_loss: 185.7838\n",
      "Epoch 42/50\n",
      "400/400 [==============================] - 1s 1ms/step - loss: 119.0561 - val_loss: 127.9330\n",
      "Epoch 43/50\n",
      "400/400 [==============================] - 1s 1ms/step - loss: 89.5996 - val_loss: 85.2153\n",
      "Epoch 44/50\n",
      "400/400 [==============================] - 1s 1ms/step - loss: 68.4141 - val_loss: 55.1603\n",
      "Epoch 45/50\n",
      "400/400 [==============================] - 1s 1ms/step - loss: 50.3771 - val_loss: 36.4931\n",
      "Epoch 46/50\n",
      "400/400 [==============================] - 1s 1ms/step - loss: 37.6205 - val_loss: 26.4057\n",
      "Epoch 47/50\n",
      "400/400 [==============================] - 1s 1ms/step - loss: 28.1693 - val_loss: 19.5363\n",
      "Epoch 48/50\n",
      "400/400 [==============================] - 1s 1ms/step - loss: 19.6465 - val_loss: 13.2864\n",
      "Epoch 49/50\n",
      "400/400 [==============================] - 1s 1ms/step - loss: 14.8729 - val_loss: 9.9993\n",
      "Epoch 50/50\n",
      "400/400 [==============================] - 1s 1ms/step - loss: 10.9355 - val_loss: 7.2908\n"
     ]
    },
    {
     "data": {
      "text/plain": [
       "<tensorflow.python.keras.callbacks.History at 0x1403fa520>"
      ]
     },
     "execution_count": 10,
     "metadata": {},
     "output_type": "execute_result"
    }
   ],
   "source": [
    "model.fit(train_input_list, y_train, validation_data = (test_input_list, y_test), epochs=50, batch_size=32)"
   ]
  },
  {
   "cell_type": "code",
   "execution_count": 12,
   "metadata": {},
   "outputs": [
    {
     "data": {
      "image/png": "[encoded data removed]",
      "text/plain": [
       "<Figure size 576x576 with 1 Axes>"
      ]
     },
     "metadata": {
      "needs_background": "light"
     },
     "output_type": "display_data"
    }
   ],
   "source": [
    "embedding_region = model.get_layer('embedding_region').get_weights()[0]\n",
    "\n",
    "label_dict['region'].inverse_transform(cat_cols_dict['region'])\n",
    "\n",
    "#Visualize\n",
    "import matplotlib.pyplot as plt\n",
    "from sklearn.decomposition import PCA\n",
    "\n",
    "pca = PCA(n_components=2)\n",
    "Y = pca.fit_transform(embedding_region[:25])\n",
    "plt.figure(figsize=(8,8))\n",
    "plt.scatter(-Y[:, 0], -Y[:, 1])\n",
    "for i, txt in enumerate((label_dict['region'].inverse_transform(cat_cols_dict['region']))[:25]):\n",
    "    plt.annotate(txt, (-Y[i, 0],-Y[i, 1]), xytext = (-20, 8), textcoords = 'offset points')\n",
    "plt.show()"
   ]
  },
  {
   "cell_type": "code",
   "execution_count": 20,
   "metadata": {},
   "outputs": [],
   "source": [
    "from keras.models import load_model\n",
    "\n",
    "model = load_model('Models/avocado-32-0.17.hdf5')"
   ]
  },
  {
   "cell_type": "code",
   "execution_count": 21,
   "metadata": {},
   "outputs": [
    {
     "name": "stdout",
     "output_type": "stream",
     "text": [
      "172/172 [==============================] - 0s 598us/step - loss: 0.1716\n"
     ]
    },
    {
     "data": {
      "text/plain": [
       "0.17164941132068634"
      ]
     },
     "execution_count": 21,
     "metadata": {},
     "output_type": "execute_result"
    }
   ],
   "source": [
    "model.evaluate(X_test, y_test)"
   ]
  },
  {
   "cell_type": "code",
   "execution_count": 22,
   "metadata": {},
   "outputs": [
    {
     "name": "stdout",
     "output_type": "stream",
     "text": [
      "Model: \"sequential\"\n",
      "_________________________________________________________________\n",
      "Layer (type)                 Output Shape              Param #   \n",
      "=================================================================\n",
      "dense (Dense)                (None, 16)                224       \n",
      "_________________________________________________________________\n",
      "dense_1 (Dense)              (None, 8)                 136       \n",
      "_________________________________________________________________\n",
      "dense_2 (Dense)              (None, 1)                 9         \n",
      "=================================================================\n",
      "Total params: 369\n",
      "Trainable params: 369\n",
      "Non-trainable params: 0\n",
      "_________________________________________________________________\n"
     ]
    }
   ],
   "source": [
    "model.summary()"
   ]
  },
  {
   "cell_type": "code",
   "execution_count": 31,
   "metadata": {},
   "outputs": [
    {
     "name": "stdout",
     "output_type": "stream",
     "text": [
      "Model: \"sequential_2\"\n",
      "_________________________________________________________________\n",
      "Layer (type)                 Output Shape              Param #   \n",
      "=================================================================\n",
      "dense_6 (Dense)              (None, 16)                224       \n",
      "_________________________________________________________________\n",
      "dense_7 (Dense)              (None, 8)                 136       \n",
      "_________________________________________________________________\n",
      "dense_8 (Dense)              (None, 1)                 9         \n",
      "=================================================================\n",
      "Total params: 369\n",
      "Trainable params: 369\n",
      "Non-trainable params: 0\n",
      "_________________________________________________________________\n"
     ]
    }
   ],
   "source": [
    "model.summary()"
   ]
  },
  {
   "cell_type": "code",
   "execution_count": null,
   "metadata": {},
   "outputs": [],
   "source": []
  }
 ],
 "metadata": {
  "kernelspec": {
   "display_name": "DataScienceTensorflow",
   "language": "python",
   "name": "datasciencetensorflow"
  },
  "language_info": {
   "codemirror_mode": {
    "name": "ipython",
    "version": 3
   },
   "file_extension": ".py",
   "mimetype": "text/x-python",
   "name": "python",
   "nbconvert_exporter": "python",
   "pygments_lexer": "ipython3",
   "version": "3.8.5"
  }
 },
 "nbformat": 4,
 "nbformat_minor": 4
}
