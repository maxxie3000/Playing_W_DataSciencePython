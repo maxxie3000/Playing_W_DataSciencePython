{
 "cells": [
  {
   "cell_type": "markdown",
   "metadata": {},
   "source": [
    "# Dimensionality Reduction and Unsupervised Learning"
   ]
  },
  {
   "cell_type": "markdown",
   "metadata": {},
   "source": [
    "## Exercise 34: Building an HCA Model "
   ]
  },
  {
   "cell_type": "code",
   "execution_count": 1,
   "metadata": {},
   "outputs": [],
   "source": [
    "#Read file\n",
    "import pandas as pd\n",
    "\n",
    "df = pd.read_csv('glass.csv')"
   ]
  },
  {
   "cell_type": "code",
   "execution_count": 2,
   "metadata": {},
   "outputs": [
    {
     "name": "stdout",
     "output_type": "stream",
     "text": [
      "<class 'pandas.core.frame.DataFrame'>\n",
      "RangeIndex: 218 entries, 0 to 217\n",
      "Data columns (total 9 columns):\n",
      " #   Column  Non-Null Count  Dtype  \n",
      "---  ------  --------------  -----  \n",
      " 0   RI      218 non-null    float64\n",
      " 1   Na      218 non-null    float64\n",
      " 2   Mg      218 non-null    float64\n",
      " 3   Al      218 non-null    float64\n",
      " 4   Si      218 non-null    float64\n",
      " 5   K       218 non-null    float64\n",
      " 6   Ca      218 non-null    float64\n",
      " 7   Ba      218 non-null    float64\n",
      " 8   Fe      218 non-null    float64\n",
      "dtypes: float64(9)\n",
      "memory usage: 15.5 KB\n"
     ]
    }
   ],
   "source": [
    "df.info()"
   ]
  },
  {
   "cell_type": "code",
   "execution_count": 3,
   "metadata": {},
   "outputs": [],
   "source": [
    "#Remove possible order effects\n",
    "from sklearn.utils import shuffle\n",
    "\n",
    "df_shuffled = shuffle(df, random_state=42)"
   ]
  },
  {
   "cell_type": "code",
   "execution_count": 4,
   "metadata": {},
   "outputs": [],
   "source": [
    "#Transform to Z-scores \n",
    "from sklearn.preprocessing import StandardScaler \n",
    "\n",
    "scaler = StandardScaler()\n",
    "scaled_features = scaler.fit_transform(df_shuffled)"
   ]
  },
  {
   "cell_type": "code",
   "execution_count": 5,
   "metadata": {},
   "outputs": [],
   "source": [
    "#Perform hierarchical clustering using linkage function \n",
    "from scipy.cluster.hierarchy import linkage \n",
    "\n",
    "model = linkage(scaled_features, method='complete')"
   ]
  },
  {
   "cell_type": "markdown",
   "metadata": {},
   "source": [
    "## Exercise 35: Plotting an HCA Model and Assigning Predictions "
   ]
  },
  {
   "cell_type": "code",
   "execution_count": 7,
   "metadata": {},
   "outputs": [
    {
     "data": {
      "image/png": "[encoded data removed]",
      "text/plain": [
       "<Figure size 720x360 with 1 Axes>"
      ]
     },
     "metadata": {
      "needs_background": "light"
     },
     "output_type": "display_data"
    }
   ],
   "source": [
    "import matplotlib.pyplot as plt \n",
    "from scipy.cluster.hierarchy import dendrogram \n",
    "\n",
    "plt.figure(figsize=(10,5))\n",
    "plt.title('Dendogram for Glass Data')\n",
    "dendrogram(model, leaf_rotation=90, leaf_font_size=6)\n",
    "plt.show()"
   ]
  },
  {
   "cell_type": "code",
   "execution_count": 8,
   "metadata": {},
   "outputs": [],
   "source": [
    "from scipy.cluster.hierarchy import fcluster \n",
    "\n",
    "labels = fcluster(model, t=9, criterion='distance')"
   ]
  },
  {
   "cell_type": "code",
   "execution_count": 19,
   "metadata": {},
   "outputs": [
    {
     "name": "stderr",
     "output_type": "stream",
     "text": [
      "/Users/Max/opt/anaconda3/envs/DataScienceWPython/lib/python3.7/site-packages/ipykernel_launcher.py:1: SettingWithCopyWarning: \n",
      "A value is trying to be set on a copy of a slice from a DataFrame.\n",
      "Try using .loc[row_indexer,col_indexer] = value instead\n",
      "\n",
      "See the caveats in the documentation: https://pandas.pydata.org/pandas-docs/stable/user_guide/indexing.html#returning-a-view-versus-a-copy\n",
      "  \"\"\"Entry point for launching an IPython kernel.\n"
     ]
    },
    {
     "data": {
      "text/html": [
       "<div>\n",
       "<style scoped>\n",
       "    .dataframe tbody tr th:only-of-type {\n",
       "        vertical-align: middle;\n",
       "    }\n",
       "\n",
       "    .dataframe tbody tr th {\n",
       "        vertical-align: top;\n",
       "    }\n",
       "\n",
       "    .dataframe thead th {\n",
       "        text-align: right;\n",
       "    }\n",
       "</style>\n",
       "<table border=\"1\" class=\"dataframe\">\n",
       "  <thead>\n",
       "    <tr style=\"text-align: right;\">\n",
       "      <th></th>\n",
       "      <th>RI</th>\n",
       "      <th>Na</th>\n",
       "      <th>Mg</th>\n",
       "      <th>Al</th>\n",
       "      <th>Si</th>\n",
       "      <th>K</th>\n",
       "      <th>Ca</th>\n",
       "      <th>Ba</th>\n",
       "      <th>Fe</th>\n",
       "      <th>predicted_cluster</th>\n",
       "    </tr>\n",
       "  </thead>\n",
       "  <tbody>\n",
       "    <tr>\n",
       "      <th>100</th>\n",
       "      <td>1.51655</td>\n",
       "      <td>12.75</td>\n",
       "      <td>2.85</td>\n",
       "      <td>1.44</td>\n",
       "      <td>73.27</td>\n",
       "      <td>0.57</td>\n",
       "      <td>8.79</td>\n",
       "      <td>0.11</td>\n",
       "      <td>0.22</td>\n",
       "      <td>2</td>\n",
       "    </tr>\n",
       "    <tr>\n",
       "      <th>215</th>\n",
       "      <td>1.51640</td>\n",
       "      <td>14.37</td>\n",
       "      <td>0.00</td>\n",
       "      <td>2.74</td>\n",
       "      <td>72.85</td>\n",
       "      <td>0.00</td>\n",
       "      <td>9.45</td>\n",
       "      <td>0.54</td>\n",
       "      <td>0.00</td>\n",
       "      <td>2</td>\n",
       "    </tr>\n",
       "    <tr>\n",
       "      <th>139</th>\n",
       "      <td>1.51674</td>\n",
       "      <td>12.87</td>\n",
       "      <td>3.56</td>\n",
       "      <td>1.64</td>\n",
       "      <td>73.14</td>\n",
       "      <td>0.65</td>\n",
       "      <td>7.99</td>\n",
       "      <td>0.00</td>\n",
       "      <td>0.00</td>\n",
       "      <td>2</td>\n",
       "    </tr>\n",
       "    <tr>\n",
       "      <th>178</th>\n",
       "      <td>1.52247</td>\n",
       "      <td>14.86</td>\n",
       "      <td>2.20</td>\n",
       "      <td>2.06</td>\n",
       "      <td>70.26</td>\n",
       "      <td>0.76</td>\n",
       "      <td>9.76</td>\n",
       "      <td>0.00</td>\n",
       "      <td>0.00</td>\n",
       "      <td>2</td>\n",
       "    </tr>\n",
       "    <tr>\n",
       "      <th>15</th>\n",
       "      <td>1.51761</td>\n",
       "      <td>12.81</td>\n",
       "      <td>3.54</td>\n",
       "      <td>1.23</td>\n",
       "      <td>73.24</td>\n",
       "      <td>0.58</td>\n",
       "      <td>8.39</td>\n",
       "      <td>0.00</td>\n",
       "      <td>0.00</td>\n",
       "      <td>2</td>\n",
       "    </tr>\n",
       "  </tbody>\n",
       "</table>\n",
       "</div>"
      ],
      "text/plain": [
       "          RI     Na    Mg    Al     Si     K    Ca    Ba    Fe  \\\n",
       "100  1.51655  12.75  2.85  1.44  73.27  0.57  8.79  0.11  0.22   \n",
       "215  1.51640  14.37  0.00  2.74  72.85  0.00  9.45  0.54  0.00   \n",
       "139  1.51674  12.87  3.56  1.64  73.14  0.65  7.99  0.00  0.00   \n",
       "178  1.52247  14.86  2.20  2.06  70.26  0.76  9.76  0.00  0.00   \n",
       "15   1.51761  12.81  3.54  1.23  73.24  0.58  8.39  0.00  0.00   \n",
       "\n",
       "     predicted_cluster  \n",
       "100                  2  \n",
       "215                  2  \n",
       "139                  2  \n",
       "178                  2  \n",
       "15                   2  "
      ]
     },
     "execution_count": 19,
     "metadata": {},
     "output_type": "execute_result"
    }
   ],
   "source": [
    "df_shuffled['predicted_cluster'] = labels\n",
    "df_shuffled.head()"
   ]
  },
  {
   "cell_type": "markdown",
   "metadata": {},
   "source": [
    "## Exercise 36: Fitting K-Means model and Assigning Predictions "
   ]
  },
  {
   "cell_type": "code",
   "execution_count": 20,
   "metadata": {},
   "outputs": [
    {
     "name": "stdout",
     "output_type": "stream",
     "text": [
      "          RI     Na    Mg    Al     Si     K    Ca    Ba    Fe  \\\n",
      "100  1.51655  12.75  2.85  1.44  73.27  0.57  8.79  0.11  0.22   \n",
      "215  1.51640  14.37  0.00  2.74  72.85  0.00  9.45  0.54  0.00   \n",
      "139  1.51674  12.87  3.56  1.64  73.14  0.65  7.99  0.00  0.00   \n",
      "178  1.52247  14.86  2.20  2.06  70.26  0.76  9.76  0.00  0.00   \n",
      "15   1.51761  12.81  3.54  1.23  73.24  0.58  8.39  0.00  0.00   \n",
      "\n",
      "     predicted_cluster  \n",
      "100                  1  \n",
      "215                  0  \n",
      "139                  1  \n",
      "178                  1  \n",
      "15                   1  \n"
     ]
    },
    {
     "name": "stderr",
     "output_type": "stream",
     "text": [
      "/Users/Max/opt/anaconda3/envs/DataScienceWPython/lib/python3.7/site-packages/ipykernel_launcher.py:15: SettingWithCopyWarning: \n",
      "A value is trying to be set on a copy of a slice from a DataFrame.\n",
      "Try using .loc[row_indexer,col_indexer] = value instead\n",
      "\n",
      "See the caveats in the documentation: https://pandas.pydata.org/pandas-docs/stable/user_guide/indexing.html#returning-a-view-versus-a-copy\n",
      "  from ipykernel import kernelapp as app\n"
     ]
    }
   ],
   "source": [
    "#Use scaled_features \n",
    "from sklearn.cluster import KMeans \n",
    "\n",
    "#Instantiating the model \n",
    "model = KMeans(n_clusters=2)\n",
    "#Fitting\n",
    "model.fit(scaled_features)\n",
    "#Labels\n",
    "labels = model.labels_\n",
    "#Generate freq. table\n",
    "import pandas as pd \n",
    "\n",
    "pd.value_counts(labels)\n",
    "#Add labels to df \n",
    "df_shuffled['predicted_cluster'] = labels \n",
    "print(df_shuffled.head())"
   ]
  },
  {
   "cell_type": "markdown",
   "metadata": {},
   "source": [
    "## Activity 12: Ensemble K-Means Clustering and Calculating Predictions "
   ]
  },
  {
   "cell_type": "code",
   "execution_count": 25,
   "metadata": {},
   "outputs": [
    {
     "name": "stdout",
     "output_type": "stream",
     "text": [
      "   model_1_labels  model_2_labels  model_3_labels  model_4_labels  \\\n",
      "0               1               0               0               0   \n",
      "1               0               1               1               1   \n",
      "2               1               0               0               0   \n",
      "3               1               0               0               0   \n",
      "4               1               0               0               0   \n",
      "\n",
      "   model_5_labels  model_6_labels  model_7_labels  model_8_labels  \\\n",
      "0               1               0               0               1   \n",
      "1               0               1               1               0   \n",
      "2               1               0               0               1   \n",
      "3               1               0               0               1   \n",
      "4               1               0               0               1   \n",
      "\n",
      "   model_9_labels  model_10_labels  ...  model_92_labels  model_93_labels  \\\n",
      "0               0                1  ...                0                0   \n",
      "1               1                0  ...                1                1   \n",
      "2               0                1  ...                0                0   \n",
      "3               0                1  ...                0                0   \n",
      "4               0                1  ...                0                0   \n",
      "\n",
      "   model_94_labels  model_95_labels  model_96_labels  model_97_labels  \\\n",
      "0                0                1                1                0   \n",
      "1                1                0                0                1   \n",
      "2                0                1                1                0   \n",
      "3                0                1                1                0   \n",
      "4                0                1                1                0   \n",
      "\n",
      "   model_98_labels  model_99_labels  model_100_labels  row_mode  \n",
      "0                0                0                 0         0  \n",
      "1                1                1                 1         1  \n",
      "2                0                0                 0         0  \n",
      "3                0                0                 0         0  \n",
      "4                0                0                 0         0  \n",
      "\n",
      "[5 rows x 101 columns]\n"
     ]
    }
   ],
   "source": [
    "#Instantiate DF labels \n",
    "labels_df = pd.DataFrame()\n",
    "for x in range(1,101):\n",
    "    model = KMeans(n_clusters=2)\n",
    "    model.fit(scaled_features)\n",
    "    labels = model.labels_\n",
    "    labels_df[f'model_{x}_labels'] = labels\n",
    " \n",
    "labels_df['row_mode'] = labels_df.mode(axis=1)\n",
    "\n",
    "print(labels_df.head())"
   ]
  },
  {
   "cell_type": "markdown",
   "metadata": {},
   "source": [
    "## Exercise 37: Calculating Mean Inertia by n_clusters "
   ]
  },
  {
   "cell_type": "code",
   "execution_count": 46,
   "metadata": {},
   "outputs": [
    {
     "name": "stdout",
     "output_type": "stream",
     "text": [
      "[1962.0, 1341.1580726861193, 1013.1834695009835, 857.8017485131268, 722.9812754062102, 604.2019310825676, 501.2028950551698, 449.9829593851605, 408.1729204480041, 372.9908048077497]\n"
     ]
    }
   ],
   "source": [
    "from sklearn.cluster import KMeans \n",
    "import numpy as np \n",
    "\n",
    "mean_inertia_list = []\n",
    "\n",
    "for x in range(1, 11): # loop through n_clusters 1-10\n",
    "    inertia_list = [] # create a list for each individual inertia value at n_cluster\n",
    "    for i in range(100):\n",
    "        model = KMeans(n_clusters=x) # instantiate model\n",
    "        model.fit(scaled_features) # fit model\n",
    "        inertia = model.inertia_ # get inertia\n",
    "        inertia_list.append(inertia) # append inertia to inertia_list\n",
    "    # moving to the outside loop\n",
    "    mean_inertia = np.mean(inertia_list) # get mean of inertia list\n",
    "    mean_inertia_list.append(mean_inertia) # append mean_inertia to mean_inertia_list\n",
    "print(mean_inertia_list) "
   ]
  },
  {
   "cell_type": "code",
   "execution_count": 36,
   "metadata": {},
   "outputs": [
    {
     "name": "stdout",
     "output_type": "stream",
     "text": [
      "10\n"
     ]
    }
   ],
   "source": [
    "print(len(mean_inertia_list))"
   ]
  },
  {
   "cell_type": "markdown",
   "metadata": {},
   "source": [
    "## Exercise 38: Plotting Mean Inertia by n_clusters "
   ]
  },
  {
   "cell_type": "code",
   "execution_count": 38,
   "metadata": {},
   "outputs": [
    {
     "data": {
      "image/png": "[encoded data removed]",
      "text/plain": [
       "<Figure size 432x288 with 1 Axes>"
      ]
     },
     "metadata": {
      "needs_background": "light"
     },
     "output_type": "display_data"
    }
   ],
   "source": [
    "import matplotlib.pyplot as plt \n",
    "\n",
    "x = list(range(1, len(mean_inertia_list) + 1))\n",
    "y = mean_inertia_list\n",
    "\n",
    "plt.plot(x, y)\n",
    "plt.title('Mean Inertia by n_clusters')\n",
    "plt.ylabel('Mean Inertia')\n",
    "plt.xticks(x)\n",
    "plt.xlabel('n_clusters')\n",
    "plt.show()"
   ]
  },
  {
   "cell_type": "markdown",
   "metadata": {},
   "source": [
    "## Exercise 39: Fitting a PCA Model "
   ]
  },
  {
   "cell_type": "code",
   "execution_count": 39,
   "metadata": {},
   "outputs": [],
   "source": [
    "from sklearn.decomposition import PCA \n",
    "\n",
    "model = PCA()"
   ]
  },
  {
   "cell_type": "code",
   "execution_count": 40,
   "metadata": {},
   "outputs": [
    {
     "name": "stdout",
     "output_type": "stream",
     "text": [
      "[3.53143625e-01 2.50532563e-01 1.25244721e-01 9.69358544e-02\n",
      " 9.26479607e-02 4.62631534e-02 2.77498886e-02 7.37245537e-03\n",
      " 1.09779199e-04]\n"
     ]
    }
   ],
   "source": [
    "#Fit the model\n",
    "model.fit(scaled_features)\n",
    "#Explained variance\n",
    "explained_var_ratio = model.explained_variance_ratio_\n",
    "print(explained_var_ratio)"
   ]
  },
  {
   "cell_type": "markdown",
   "metadata": {},
   "source": [
    "## Exercise 40: Coosing n_components using Threshold of Explained Variance"
   ]
  },
  {
   "cell_type": "code",
   "execution_count": 42,
   "metadata": {},
   "outputs": [
    {
     "name": "stdout",
     "output_type": "stream",
     "text": [
      "[0.35314362 0.60367619 0.72892091 0.82585676 0.91850472 0.96476788\n",
      " 0.99251777 0.99989022 1.        ]\n"
     ]
    }
   ],
   "source": [
    "import numpy as np\n",
    "\n",
    "cum_sum_explained_var = np.cumsum(explained_var_ratio)\n",
    "print(cum_sum_explained_var)"
   ]
  },
  {
   "cell_type": "code",
   "execution_count": 43,
   "metadata": {},
   "outputs": [
    {
     "name": "stdout",
     "output_type": "stream",
     "text": [
      "The best n_components is 6\n"
     ]
    }
   ],
   "source": [
    "#Set threshold for the percentage of variance to be kept in the data \n",
    "threshold = .95\n",
    "\n",
    "for i in range(len(cum_sum_explained_var)):\n",
    "    if cum_sum_explained_var[i] >= threshold:\n",
    "        best_n_components = i + 1\n",
    "        break\n",
    "    else:\n",
    "        pass\n",
    "\n",
    "print(f'The best n_components is {best_n_components}')"
   ]
  },
  {
   "cell_type": "markdown",
   "metadata": {},
   "source": [
    "## Activity 13: Evaluating Mean Inertia by Cluser after PCA Transformation"
   ]
  },
  {
   "cell_type": "code",
   "execution_count": 55,
   "metadata": {},
   "outputs": [],
   "source": [
    "#Instantiate second PCA Model\n",
    "PCA_model = PCA(n_components = best_n_components)\n",
    "\n",
    "df_pca = PCA_model.fit_transform(scaled_features)\n",
    "\n",
    "mean_inertia_list_PCA = []\n",
    "\n",
    "for x in range(1, 11): # loop through n_clusters 1-10\n",
    "    inertia_list = [] # create a list for each individual inertia value at n_cluster\n",
    "    for i in range(100):\n",
    "        model = KMeans(n_clusters=x) # instantiate model\n",
    "        model.fit(df_pca) # fit model\n",
    "        inertia = model.inertia_ # get inertia\n",
    "        inertia_list.append(inertia) # append inertia to inertia_list\n",
    "    # moving to the outside loop\n",
    "    mean_inertia_PCA = np.mean(inertia_list) # get mean of inertia list\n",
    "    mean_inertia_list_PCA.append(mean_inertia_PCA) # append mean_inertia to mean_inertia_list"
   ]
  },
  {
   "cell_type": "code",
   "execution_count": 56,
   "metadata": {},
   "outputs": [
    {
     "name": "stdout",
     "output_type": "stream",
     "text": [
      "[1962.0, 1341.1580726861193, 1013.1834695009835, 857.8017485131268, 722.9812754062102, 604.2019310825676, 501.2028950551698, 449.9829593851605, 408.1729204480041, 372.9908048077497] \n",
      " [1892.8745743658674, 1272.0670934032587, 945.9585011131073, 793.3556249374092, 660.0023797514935, 543.5816413196146, 447.16056350885765, 402.1823386963843, 362.8893887551739, 330.00270535531143]\n"
     ]
    }
   ],
   "source": [
    "print(mean_inertia_list, '\\n', mean_inertia_list_PCA)"
   ]
  },
  {
   "cell_type": "markdown",
   "metadata": {},
   "source": [
    "## Exercise 41: Visual comparison of Inertia"
   ]
  },
  {
   "cell_type": "code",
   "execution_count": 59,
   "metadata": {},
   "outputs": [
    {
     "data": {
      "image/png": "[encoded data removed]",
      "text/plain": [
       "<Figure size 432x288 with 1 Axes>"
      ]
     },
     "metadata": {
      "needs_background": "light"
     },
     "output_type": "display_data"
    }
   ],
   "source": [
    "import matplotlib.pyplot as plt \n",
    "\n",
    "x = list(range(1, len(mean_inertia_list_PCA)+1))\n",
    "y = mean_inertia_list_PCA\n",
    "y2 = mean_inertia_list\n",
    "\n",
    "plt.plot(x, y, label='PCA')\n",
    "plt.plot(x, y2, label='No PCA')\n",
    "plt.title('Mean Inertia by n_clusters for Orginal Features and PCA Transformed Features')\n",
    "plt.xlabel('n_clusters')\n",
    "plt.ylabel('Mean Inertia')\n",
    "plt.xticks(x)\n",
    "plt.legend()\n",
    "plt.show()"
   ]
  },
  {
   "cell_type": "markdown",
   "metadata": {},
   "source": [
    "## Exercise 42: Fitting LDA Model "
   ]
  },
  {
   "cell_type": "code",
   "execution_count": 1,
   "metadata": {},
   "outputs": [
    {
     "data": {
      "text/plain": [
       "Index(['RI', 'Na', 'Mg', 'Al', 'Si', 'K', 'Ca', 'Ba', 'Fe', 'Type'], dtype='object')"
      ]
     },
     "execution_count": 1,
     "metadata": {},
     "output_type": "execute_result"
    }
   ],
   "source": [
    "import pandas as pd \n",
    "df = pd.read_csv('glass_w_outcome.csv')\n",
    "df.columns"
   ]
  },
  {
   "cell_type": "code",
   "execution_count": 2,
   "metadata": {},
   "outputs": [
    {
     "name": "stderr",
     "output_type": "stream",
     "text": [
      "/Users/Max/opt/anaconda3/envs/DataScienceWPython/lib/python3.7/site-packages/sklearn/utils/validation.py:73: DataConversionWarning: A column-vector y was passed when a 1d array was expected. Please change the shape of y to (n_samples, ), for example using ravel().\n",
      "  return f(**kwargs)\n"
     ]
    },
    {
     "data": {
      "text/plain": [
       "array([0.95863843, 0.04136157])"
      ]
     },
     "execution_count": 2,
     "metadata": {},
     "output_type": "execute_result"
    }
   ],
   "source": [
    "from sklearn.utils import shuffle\n",
    "df_shuffled = shuffle(df, random_state=42)\n",
    "\n",
    "DV = ['Type']\n",
    "\n",
    "X = df_shuffled.drop(DV, axis = 1)\n",
    "y = df_shuffled[DV]\n",
    "\n",
    "#Split\n",
    "from sklearn.model_selection import train_test_split\n",
    "X_train, X_test, y_train, y_test = train_test_split(X, y, test_size = 0.33, random_state = 42)\n",
    "#Scaling\n",
    "from sklearn.preprocessing import StandardScaler\n",
    "\n",
    "scaler = StandardScaler()\n",
    "X_train_scaled = scaler.fit_transform(X_train)\n",
    "X_test_scaled = scaler.fit_transform(X_test)\n",
    "\n",
    "from sklearn.discriminant_analysis import LinearDiscriminantAnalysis\n",
    "\n",
    "model = LinearDiscriminantAnalysis()\n",
    "model.fit(X_train_scaled, y_train)\n",
    "model.explained_variance_ratio_"
   ]
  },
  {
   "cell_type": "markdown",
   "metadata": {},
   "source": [
    "## Exercise 43: Using LDA Transformed Components in Classification Model"
   ]
  },
  {
   "cell_type": "code",
   "execution_count": 6,
   "metadata": {},
   "outputs": [
    {
     "name": "stderr",
     "output_type": "stream",
     "text": [
      "/Users/Max/opt/anaconda3/envs/DataScienceWPython/lib/python3.7/site-packages/ipykernel_launcher.py:6: DataConversionWarning: A column-vector y was passed when a 1d array was expected. Please change the shape of y to (n_samples,), for example using ravel().\n",
      "  \n"
     ]
    },
    {
     "data": {
      "text/plain": [
       "RandomForestClassifier()"
      ]
     },
     "execution_count": 6,
     "metadata": {},
     "output_type": "execute_result"
    }
   ],
   "source": [
    "X_train_LDA = model.transform(X_train_scaled)\n",
    "X_test_LDA = model.transform(X_test_scaled)\n",
    "\n",
    "from sklearn.ensemble import RandomForestClassifier\n",
    "model_rf = RandomForestClassifier()\n",
    "model_rf.fit(X_train_LDA, y_train)"
   ]
  },
  {
   "cell_type": "code",
   "execution_count": 14,
   "metadata": {},
   "outputs": [
    {
     "name": "stdout",
     "output_type": "stream",
     "text": [
      "          Predicted 1  Predicted 2  Predicted 3  Total\n",
      "Actual 1           15            7            0     22\n",
      "Actual 2            4           17            2     23\n",
      "Actual 3            2            1           24     27\n",
      "Total              21           25           26     72\n"
     ]
    }
   ],
   "source": [
    "#Get Predicition\n",
    "predictions = model_rf.predict(X_test_LDA)\n",
    "\n",
    "from sklearn.metrics import confusion_matrix \n",
    "import pandas as pd\n",
    "import numpy as np\n",
    "\n",
    "cm = pd.DataFrame(confusion_matrix(y_test, predictions))\n",
    "cm['Total'] = np.sum(cm, axis = 1)\n",
    "cm = cm.append(np.sum(cm, axis=0), ignore_index=True)\n",
    "\n",
    "cm.columns = ['Predicted 1', 'Predicted 2', 'Predicted 3', 'Total']\n",
    "cm = cm.set_index([['Actual 1', 'Actual 2', 'Actual 3', 'Total']])\n",
    "print(cm)"
   ]
  },
  {
   "cell_type": "code",
   "execution_count": null,
   "metadata": {},
   "outputs": [],
   "source": []
  }
 ],
 "metadata": {
  "kernelspec": {
   "display_name": "Python 3",
   "language": "python",
   "name": "python3"
  },
  "language_info": {
   "codemirror_mode": {
    "name": "ipython",
    "version": 3
   },
   "file_extension": ".py",
   "mimetype": "text/x-python",
   "name": "python",
   "nbconvert_exporter": "python",
   "pygments_lexer": "ipython3",
   "version": "3.7.7"
  }
 },
 "nbformat": 4,
 "nbformat_minor": 4
}
