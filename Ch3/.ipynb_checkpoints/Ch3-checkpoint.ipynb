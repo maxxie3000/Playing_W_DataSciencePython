{
 "cells": [
  {
   "cell_type": "markdown",
   "metadata": {},
   "source": [
    "# Chapter 3: Introduction to Machine Learning via Scikit-Learn"
   ]
  },
  {
   "cell_type": "markdown",
   "metadata": {},
   "source": [
    "## Exercise 21: Preparing data for a Linear Regression Model"
   ]
  },
  {
   "cell_type": "code",
   "execution_count": 1,
   "metadata": {},
   "outputs": [],
   "source": [
    "import pandas as pd\n",
    "\n",
    "df = pd.read_csv('weather.csv')"
   ]
  },
  {
   "cell_type": "code",
   "execution_count": 2,
   "metadata": {},
   "outputs": [
    {
     "name": "stdout",
     "output_type": "stream",
     "text": [
      "<class 'pandas.core.frame.DataFrame'>\n",
      "RangeIndex: 10000 entries, 0 to 9999\n",
      "Data columns (total 8 columns):\n",
      " #   Column                Non-Null Count  Dtype  \n",
      "---  ------                --------------  -----  \n",
      " 0   Temperature_c         10000 non-null  float64\n",
      " 1   Humidity              10000 non-null  float64\n",
      " 2   Wind_Speed_kmh        10000 non-null  float64\n",
      " 3   Wind_Bearing_degrees  10000 non-null  int64  \n",
      " 4   Visibility_km         10000 non-null  float64\n",
      " 5   Pressure_millibars    10000 non-null  float64\n",
      " 6   Rain                  10000 non-null  int64  \n",
      " 7   Description           10000 non-null  object \n",
      "dtypes: float64(5), int64(2), object(1)\n",
      "memory usage: 625.1+ KB\n"
     ]
    }
   ],
   "source": [
    "df.info()"
   ]
  },
  {
   "cell_type": "code",
   "execution_count": 4,
   "metadata": {},
   "outputs": [
    {
     "name": "stdout",
     "output_type": "stream",
     "text": [
      "There are 3 levels in the Description column\n"
     ]
    }
   ],
   "source": [
    "#Levels in Description\n",
    "levels = len(pd.value_counts(df['Description']))\n",
    "print(f'There are {levels} levels in the Description column')"
   ]
  },
  {
   "cell_type": "code",
   "execution_count": 24,
   "metadata": {},
   "outputs": [
    {
     "name": "stdout",
     "output_type": "stream",
     "text": [
      "There are 9 columns in df_dummies\n"
     ]
    }
   ],
   "source": [
    "#To dummy code all multi-class, categorical variables\n",
    "df_dummies = pd.get_dummies(df, drop_first=True)\n",
    "print(f'There are {df_dummies.shape[1]} columns in df_dummies')"
   ]
  },
  {
   "cell_type": "code",
   "execution_count": 25,
   "metadata": {},
   "outputs": [],
   "source": [
    "from sklearn.utils import shuffle \n",
    "\n",
    "df_shuffled = shuffle(df_dummies, random_state=30)"
   ]
  },
  {
   "cell_type": "code",
   "execution_count": 26,
   "metadata": {},
   "outputs": [],
   "source": [
    "#Split df_shuffled into X and y (DV)\n",
    "DV = 'Temperature_c'\n",
    "\n",
    "X = df_shuffled.drop(DV, axis = 1)\n",
    "y = df_shuffled[DV]"
   ]
  },
  {
   "cell_type": "code",
   "execution_count": 27,
   "metadata": {},
   "outputs": [],
   "source": [
    "#Split X and y into testing and training data \n",
    "from sklearn.model_selection import train_test_split\n",
    "\n",
    "X_train, X_test, y_train, y_test = train_test_split(X, y, test_size = 0.2, random_state = 30)"
   ]
  },
  {
   "cell_type": "code",
   "execution_count": 28,
   "metadata": {},
   "outputs": [
    {
     "data": {
      "text/html": [
       "<div>\n",
       "<style scoped>\n",
       "    .dataframe tbody tr th:only-of-type {\n",
       "        vertical-align: middle;\n",
       "    }\n",
       "\n",
       "    .dataframe tbody tr th {\n",
       "        vertical-align: top;\n",
       "    }\n",
       "\n",
       "    .dataframe thead th {\n",
       "        text-align: right;\n",
       "    }\n",
       "</style>\n",
       "<table border=\"1\" class=\"dataframe\">\n",
       "  <thead>\n",
       "    <tr style=\"text-align: right;\">\n",
       "      <th></th>\n",
       "      <th>Humidity</th>\n",
       "      <th>Wind_Speed_kmh</th>\n",
       "      <th>Wind_Bearing_degrees</th>\n",
       "      <th>Visibility_km</th>\n",
       "      <th>Pressure_millibars</th>\n",
       "      <th>Rain</th>\n",
       "      <th>Description_Normal</th>\n",
       "      <th>Description_Warm</th>\n",
       "    </tr>\n",
       "  </thead>\n",
       "  <tbody>\n",
       "    <tr>\n",
       "      <th>4412</th>\n",
       "      <td>0.90</td>\n",
       "      <td>7.8085</td>\n",
       "      <td>223</td>\n",
       "      <td>5.2808</td>\n",
       "      <td>1003.67</td>\n",
       "      <td>1</td>\n",
       "      <td>1</td>\n",
       "      <td>0</td>\n",
       "    </tr>\n",
       "    <tr>\n",
       "      <th>853</th>\n",
       "      <td>0.69</td>\n",
       "      <td>8.1466</td>\n",
       "      <td>293</td>\n",
       "      <td>16.1000</td>\n",
       "      <td>1016.26</td>\n",
       "      <td>1</td>\n",
       "      <td>0</td>\n",
       "      <td>1</td>\n",
       "    </tr>\n",
       "    <tr>\n",
       "      <th>7443</th>\n",
       "      <td>0.85</td>\n",
       "      <td>3.1556</td>\n",
       "      <td>22</td>\n",
       "      <td>15.8263</td>\n",
       "      <td>1025.67</td>\n",
       "      <td>1</td>\n",
       "      <td>0</td>\n",
       "      <td>0</td>\n",
       "    </tr>\n",
       "    <tr>\n",
       "      <th>6118</th>\n",
       "      <td>0.87</td>\n",
       "      <td>3.2200</td>\n",
       "      <td>340</td>\n",
       "      <td>15.8263</td>\n",
       "      <td>1014.81</td>\n",
       "      <td>1</td>\n",
       "      <td>1</td>\n",
       "      <td>0</td>\n",
       "    </tr>\n",
       "    <tr>\n",
       "      <th>2152</th>\n",
       "      <td>0.69</td>\n",
       "      <td>11.7369</td>\n",
       "      <td>330</td>\n",
       "      <td>11.4471</td>\n",
       "      <td>1021.74</td>\n",
       "      <td>1</td>\n",
       "      <td>1</td>\n",
       "      <td>0</td>\n",
       "    </tr>\n",
       "  </tbody>\n",
       "</table>\n",
       "</div>"
      ],
      "text/plain": [
       "      Humidity  Wind_Speed_kmh  Wind_Bearing_degrees  Visibility_km  \\\n",
       "4412      0.90          7.8085                   223         5.2808   \n",
       "853       0.69          8.1466                   293        16.1000   \n",
       "7443      0.85          3.1556                    22        15.8263   \n",
       "6118      0.87          3.2200                   340        15.8263   \n",
       "2152      0.69         11.7369                   330        11.4471   \n",
       "\n",
       "      Pressure_millibars  Rain  Description_Normal  Description_Warm  \n",
       "4412             1003.67     1                   1                 0  \n",
       "853              1016.26     1                   0                 1  \n",
       "7443             1025.67     1                   0                 0  \n",
       "6118             1014.81     1                   1                 0  \n",
       "2152             1021.74     1                   1                 0  "
      ]
     },
     "execution_count": 28,
     "metadata": {},
     "output_type": "execute_result"
    }
   ],
   "source": [
    "X_train.head()"
   ]
  },
  {
   "cell_type": "markdown",
   "metadata": {},
   "source": [
    "## Exercise 22: Fitting simple Linear regression "
   ]
  },
  {
   "cell_type": "code",
   "execution_count": 29,
   "metadata": {},
   "outputs": [
    {
     "name": "stdout",
     "output_type": "stream",
     "text": [
      "Temperature = 34.39 + (-30.63 x Humidity)\n"
     ]
    }
   ],
   "source": [
    "from sklearn.linear_model import LinearRegression\n",
    "\n",
    "model = LinearRegression()\n",
    "\n",
    "#Fit the model\n",
    "model.fit(X_train[['Humidity']], y_train)\n",
    "\n",
    "#Get_intercept \n",
    "intercept = model.intercept_\n",
    "\n",
    "#get coefficient \n",
    "coefficient = model.coef_\n",
    "\n",
    "print(f'Temperature = {intercept:.2f} + ({coefficient[0]:.2f} x Humidity)')"
   ]
  },
  {
   "cell_type": "markdown",
   "metadata": {},
   "source": [
    "## Exercise 23: Generating Prediction and Evaluation the performance "
   ]
  },
  {
   "cell_type": "code",
   "execution_count": 30,
   "metadata": {},
   "outputs": [
    {
     "data": {
      "image/png": "[encoded data removed]",
      "text/plain": [
       "<Figure size 432x288 with 1 Axes>"
      ]
     },
     "metadata": {
      "needs_background": "light"
     },
     "output_type": "display_data"
    }
   ],
   "source": [
    "#Generate predictions\n",
    "pred = model.predict(X_test[['Humidity']])\n",
    "\n",
    "#Common way to evaluate predicted values is by correlation \n",
    "import matplotlib.pyplot as plt\n",
    "from scipy.stats import pearsonr\n",
    "\n",
    "plt.scatter(y_test, pred)\n",
    "plt.xlabel('Y test (True values)')\n",
    "plt.ylabel('Predicted Values')\n",
    "plt.title('Predicted vs. Actual Values (r= {0:.2f})'.format(pearsonr(y_test, pred)[0], 2))\n",
    "plt.show()"
   ]
  },
  {
   "cell_type": "code",
   "execution_count": 32,
   "metadata": {
    "scrolled": true
   },
   "outputs": [
    {
     "data": {
      "image/png": "[encoded data removed]",
      "text/plain": [
       "<Figure size 432x288 with 1 Axes>"
      ]
     },
     "metadata": {
      "needs_background": "light"
     },
     "output_type": "display_data"
    }
   ],
   "source": [
    "#Investigate the residuals with density plot\n",
    "import seaborn as sns \n",
    "from scipy.stats import shapiro\n",
    "\n",
    "sns.distplot((y_test - pred), bins = 50)\n",
    "plt.xlabel('Residuals')\n",
    "plt.ylabel('Density')\n",
    "plt.title(f'Histogram of Residuals (Shapiro W p-value = {shapiro(y_test - pred)[1]:.3f})')\n",
    "plt.show()"
   ]
  },
  {
   "cell_type": "markdown",
   "metadata": {},
   "source": [
    "Histogram shows negatively skewness, p-value tells us the distribution is not normal "
   ]
  },
  {
   "cell_type": "code",
   "execution_count": 33,
   "metadata": {
    "scrolled": true
   },
   "outputs": [
    {
     "name": "stdout",
     "output_type": "stream",
     "text": [
      "      Metric   Value\n",
      "0        MAE   6.094\n",
      "1        MSE  56.580\n",
      "2       RMSE   7.522\n",
      "3  R-Squared   0.373\n"
     ]
    }
   ],
   "source": [
    "#Compute metrics\n",
    "from sklearn import metrics \n",
    "import numpy as np \n",
    "\n",
    "metrics_df = pd.DataFrame({'Metric': ['MAE', 'MSE', 'RMSE', 'R-Squared'],\n",
    "                           'Value' : [metrics.mean_absolute_error(y_test, pred),\n",
    "                                      metrics.mean_squared_error(y_test, pred),\n",
    "                                      np.sqrt(metrics.mean_squared_error(y_test, pred)),\n",
    "                                      metrics.explained_variance_score(y_test, pred)]}).round(3)\n",
    "\n",
    "print(metrics_df)"
   ]
  },
  {
   "cell_type": "markdown",
   "metadata": {},
   "source": [
    "## Exercise 24: Fitting a Multiple Linear Regression Model "
   ]
  },
  {
   "cell_type": "code",
   "execution_count": 34,
   "metadata": {},
   "outputs": [],
   "source": [
    "from sklearn.linear_model import LinearRegression\n",
    "\n",
    "model = LinearRegression()"
   ]
  },
  {
   "cell_type": "code",
   "execution_count": 36,
   "metadata": {},
   "outputs": [
    {
     "data": {
      "text/plain": [
       "LinearRegression()"
      ]
     },
     "execution_count": 36,
     "metadata": {},
     "output_type": "execute_result"
    }
   ],
   "source": [
    "#Fit the model\n",
    "model.fit(X_train, y_train)"
   ]
  },
  {
   "cell_type": "code",
   "execution_count": 37,
   "metadata": {},
   "outputs": [],
   "source": [
    "intercept = model.intercept_\n",
    "\n",
    "coefficients = model.coef_"
   ]
  },
  {
   "cell_type": "code",
   "execution_count": 40,
   "metadata": {},
   "outputs": [
    {
     "name": "stdout",
     "output_type": "stream",
     "text": [
      "Temperature = 3.65 + (-8.01 x Humidity) + \n",
      "        (-0.08 x Wind Speed) + (0.00 x Wind Bearing Degrees) + \n",
      "        (0.06 x Visibility) + (0.00 x Pressure) + \n",
      "        (5.64 x Rain) + (8.48 x Normal Weather) + \n",
      "        (19.10 x Warm Weather)\n"
     ]
    }
   ],
   "source": [
    "print('''Temperature = {0:0.2f} + ({1:0.2f} x Humidity) + \n",
    "        ({2:0.2f} x Wind Speed) + ({3:0.2f} x Wind Bearing Degrees) + \n",
    "        ({4:0.2f} x Visibility) + ({5:0.2f} x Pressure) + \n",
    "        ({6:0.2f} x Rain) + ({7:0.2f} x Normal Weather) + \n",
    "        ({8:0.2f} x Warm Weather)'''.format(intercept,coefficients[0],coefficients[1],\n",
    "                                            coefficients[2],coefficients[3],coefficients[4],\n",
    "                                            coefficients[5],coefficients[6],coefficients[7]))"
   ]
  },
  {
   "cell_type": "markdown",
   "metadata": {},
   "source": [
    "## Activity 5: Generating Predictions and Evaluation the performance "
   ]
  },
  {
   "cell_type": "code",
   "execution_count": 43,
   "metadata": {},
   "outputs": [
    {
     "data": {
      "image/png": "[encoded data removed]",
      "text/plain": [
       "<Figure size 432x288 with 1 Axes>"
      ]
     },
     "metadata": {
      "needs_background": "light"
     },
     "output_type": "display_data"
    },
    {
     "data": {
      "image/png": "[encoded data removed]",
      "text/plain": [
       "<Figure size 432x288 with 1 Axes>"
      ]
     },
     "metadata": {
      "needs_background": "light"
     },
     "output_type": "display_data"
    },
    {
     "name": "stdout",
     "output_type": "stream",
     "text": [
      "      Metric   Value\n",
      "0        MAE   2.785\n",
      "1        MSE  12.001\n",
      "2       RMSE   3.464\n",
      "3  R-Squared   0.867\n"
     ]
    }
   ],
   "source": [
    "#Generate predictions\n",
    "pred = model.predict(X_test)\n",
    "\n",
    "#Common way to evaluate predicted values is by correlation \n",
    "import matplotlib.pyplot as plt\n",
    "from scipy.stats import pearsonr\n",
    "\n",
    "plt.scatter(y_test, pred)\n",
    "plt.xlabel('Y test (True values)')\n",
    "plt.ylabel('Predicted Values')\n",
    "plt.title('Predicted vs. Actual Values (r= {0:.2f})'.format(pearsonr(y_test, pred)[0], 2))\n",
    "plt.show()\n",
    "\n",
    "#Investigate the residuals with density plot\n",
    "import seaborn as sns \n",
    "from scipy.stats import shapiro\n",
    "\n",
    "sns.distplot((y_test - pred), bins = 50)\n",
    "plt.xlabel('Residuals')\n",
    "plt.ylabel('Density')\n",
    "plt.title(f'Histogram of Residuals (Shapiro W p-value = {shapiro(y_test - pred)[1]:.3f})')\n",
    "plt.show()\n",
    "\n",
    "#Compute metrics\n",
    "from sklearn import metrics \n",
    "import numpy as np \n",
    "\n",
    "metrics_df = pd.DataFrame({'Metric': ['MAE', 'MSE', 'RMSE', 'R-Squared'],\n",
    "                           'Value' : [metrics.mean_absolute_error(y_test, pred),\n",
    "                                      metrics.mean_squared_error(y_test, pred),\n",
    "                                      np.sqrt(metrics.mean_squared_error(y_test, pred)),\n",
    "                                      metrics.explained_variance_score(y_test, pred)]}).round(3)\n",
    "\n",
    "print(metrics_df)"
   ]
  },
  {
   "cell_type": "markdown",
   "metadata": {},
   "source": [
    "The Multiple linear regression model performs better than the simple linear regression"
   ]
  },
  {
   "cell_type": "markdown",
   "metadata": {},
   "source": [
    "## Exercise 25: Fitting a Logistic Regression Model "
   ]
  },
  {
   "cell_type": "code",
   "execution_count": 77,
   "metadata": {},
   "outputs": [],
   "source": [
    "import pandas as pd \n",
    "\n",
    "df = pd.read_csv('weather.csv')"
   ]
  },
  {
   "cell_type": "code",
   "execution_count": 78,
   "metadata": {},
   "outputs": [],
   "source": [
    "#Dummy code\n",
    "df_dummies = pd.get_dummies(df, drop_first = True)"
   ]
  },
  {
   "cell_type": "code",
   "execution_count": 79,
   "metadata": {},
   "outputs": [],
   "source": [
    "#Shuffle\n",
    "from sklearn.utils import shuffle \n",
    "\n",
    "df_shuffled = shuffle(df_dummies, random_state = 42)"
   ]
  },
  {
   "cell_type": "code",
   "execution_count": 80,
   "metadata": {},
   "outputs": [],
   "source": [
    "#Split into X and y \n",
    "DV = 'Rain'\n",
    "X = df_shuffled.drop(DV, axis = 1)\n",
    "y = df_shuffled[DV]"
   ]
  },
  {
   "cell_type": "code",
   "execution_count": 81,
   "metadata": {},
   "outputs": [],
   "source": [
    "#Split training and test sets \n",
    "from sklearn.model_selection import train_test_split\n",
    "\n",
    "X_train, X_test, y_train, y_test = train_test_split(X, y, test_size = 0.2, random_state = 42)"
   ]
  },
  {
   "cell_type": "code",
   "execution_count": 82,
   "metadata": {},
   "outputs": [
    {
     "data": {
      "text/plain": [
       "LogisticRegression()"
      ]
     },
     "execution_count": 82,
     "metadata": {},
     "output_type": "execute_result"
    }
   ],
   "source": [
    "#Import logistic regression \n",
    "from sklearn.linear_model import LogisticRegression\n",
    "\n",
    "model = LogisticRegression()\n",
    "\n",
    "#Fit the model\n",
    "model.fit(X_train, y_train)"
   ]
  },
  {
   "cell_type": "code",
   "execution_count": 83,
   "metadata": {},
   "outputs": [
    {
     "name": "stdout",
     "output_type": "stream",
     "text": [
      "                Feature  Coefficient\n",
      "0         Temperature_c     6.572777\n",
      "1              Humidity     0.230987\n",
      "2        Wind_Speed_kmh    -0.066100\n",
      "3  Wind_Bearing_degrees    -0.002198\n",
      "4         Visibility_km     0.050477\n",
      "5    Pressure_millibars     0.000471\n",
      "6    Description_Normal     0.020512\n",
      "7      Description_Warm     0.009509\n"
     ]
    }
   ],
   "source": [
    "intercept = model.intercept_\n",
    "coefficients = model.coef_\n",
    "\n",
    "coef_list = list(coefficients[0,:])\n",
    "\n",
    "coef_df = pd.DataFrame({'Feature': list(X_train.columns),\n",
    "                        'Coefficient': coef_list})\n",
    "\n",
    "print(coef_df)"
   ]
  },
  {
   "cell_type": "markdown",
   "metadata": {},
   "source": [
    "## Exercise 26: Generating Predictions and Evaluating the performance "
   ]
  },
  {
   "cell_type": "code",
   "execution_count": 84,
   "metadata": {},
   "outputs": [
    {
     "name": "stdout",
     "output_type": "stream",
     "text": [
      "            Predicted No  Predicted Yes  Total\n",
      "Actual No            234              3    237\n",
      "Actual Yes             2           1761   1763\n",
      "Total                236           1764   2000\n"
     ]
    }
   ],
   "source": [
    "pred_prob = model.predict_proba(X_test)[:,1]\n",
    "\n",
    "pred_class = model.predict(X_test)\n",
    "\n",
    "#Evaluate using confusion matrix\n",
    "from sklearn.metrics import confusion_matrix \n",
    "import numpy as np\n",
    "\n",
    "cm = pd.DataFrame(confusion_matrix(y_test, pred_class))\n",
    "cm['Total'] = np.sum(cm, axis=1)\n",
    "cm = cm.append(np.sum(cm, axis=0), ignore_index = True)\n",
    "cm.columns = ['Predicted No', 'Predicted Yes', 'Total']\n",
    "cm = cm.set_index([['Actual No', 'Actual Yes', 'Total']])\n",
    "print(cm)"
   ]
  },
  {
   "cell_type": "code",
   "execution_count": 58,
   "metadata": {
    "scrolled": true
   },
   "outputs": [
    {
     "name": "stdout",
     "output_type": "stream",
     "text": [
      "              precision    recall  f1-score   support\n",
      "\n",
      "           0       0.99      0.99      0.99       237\n",
      "           1       1.00      1.00      1.00      1763\n",
      "\n",
      "    accuracy                           1.00      2000\n",
      "   macro avg       0.99      0.99      0.99      2000\n",
      "weighted avg       1.00      1.00      1.00      2000\n",
      "\n"
     ]
    }
   ],
   "source": [
    "#generate classification report\n",
    "from sklearn.metrics import classification_report \n",
    "\n",
    "print(classification_report(y_test, pred_class))"
   ]
  },
  {
   "cell_type": "markdown",
   "metadata": {},
   "source": [
    "## Exercise 27: Tuning the Hyperparameters of a Multiple Logistic Regression Model "
   ]
  },
  {
   "cell_type": "code",
   "execution_count": 87,
   "metadata": {},
   "outputs": [],
   "source": [
    "#Instantiating a grid of possible hyperparameters \n",
    "import numpy as np\n",
    "\n",
    "grid = {'penalty' : ['l1', 'l2'],\n",
    "        'C' : np.linspace(1, 10, 2),\n",
    "        'solver' : ['liblinear']\n",
    "        }\n",
    "\n",
    "#Instantiate a grid search to find greatest f1 score \n",
    "from sklearn.model_selection import GridSearchCV\n",
    "from sklearn.linear_model import LogisticRegression\n",
    "\n",
    "model = GridSearchCV(LogisticRegression(), grid, \n",
    "                     scoring = 'f1', cv = 5)"
   ]
  },
  {
   "cell_type": "code",
   "execution_count": 88,
   "metadata": {},
   "outputs": [
    {
     "name": "stderr",
     "output_type": "stream",
     "text": [
      "/Users/Max/opt/anaconda3/envs/DataScienceWPython/lib/python3.7/site-packages/sklearn/svm/_base.py:977: ConvergenceWarning: Liblinear failed to converge, increase the number of iterations.\n",
      "  \"the number of iterations.\", ConvergenceWarning)\n",
      "/Users/Max/opt/anaconda3/envs/DataScienceWPython/lib/python3.7/site-packages/sklearn/svm/_base.py:977: ConvergenceWarning: Liblinear failed to converge, increase the number of iterations.\n",
      "  \"the number of iterations.\", ConvergenceWarning)\n",
      "/Users/Max/opt/anaconda3/envs/DataScienceWPython/lib/python3.7/site-packages/sklearn/svm/_base.py:977: ConvergenceWarning: Liblinear failed to converge, increase the number of iterations.\n",
      "  \"the number of iterations.\", ConvergenceWarning)\n",
      "/Users/Max/opt/anaconda3/envs/DataScienceWPython/lib/python3.7/site-packages/sklearn/svm/_base.py:977: ConvergenceWarning: Liblinear failed to converge, increase the number of iterations.\n",
      "  \"the number of iterations.\", ConvergenceWarning)\n",
      "/Users/Max/opt/anaconda3/envs/DataScienceWPython/lib/python3.7/site-packages/sklearn/svm/_base.py:977: ConvergenceWarning: Liblinear failed to converge, increase the number of iterations.\n",
      "  \"the number of iterations.\", ConvergenceWarning)\n",
      "/Users/Max/opt/anaconda3/envs/DataScienceWPython/lib/python3.7/site-packages/sklearn/svm/_base.py:977: ConvergenceWarning: Liblinear failed to converge, increase the number of iterations.\n",
      "  \"the number of iterations.\", ConvergenceWarning)\n",
      "/Users/Max/opt/anaconda3/envs/DataScienceWPython/lib/python3.7/site-packages/sklearn/svm/_base.py:977: ConvergenceWarning: Liblinear failed to converge, increase the number of iterations.\n",
      "  \"the number of iterations.\", ConvergenceWarning)\n",
      "/Users/Max/opt/anaconda3/envs/DataScienceWPython/lib/python3.7/site-packages/sklearn/svm/_base.py:977: ConvergenceWarning: Liblinear failed to converge, increase the number of iterations.\n",
      "  \"the number of iterations.\", ConvergenceWarning)\n",
      "/Users/Max/opt/anaconda3/envs/DataScienceWPython/lib/python3.7/site-packages/sklearn/svm/_base.py:977: ConvergenceWarning: Liblinear failed to converge, increase the number of iterations.\n",
      "  \"the number of iterations.\", ConvergenceWarning)\n",
      "/Users/Max/opt/anaconda3/envs/DataScienceWPython/lib/python3.7/site-packages/sklearn/svm/_base.py:977: ConvergenceWarning: Liblinear failed to converge, increase the number of iterations.\n",
      "  \"the number of iterations.\", ConvergenceWarning)\n",
      "/Users/Max/opt/anaconda3/envs/DataScienceWPython/lib/python3.7/site-packages/sklearn/svm/_base.py:977: ConvergenceWarning: Liblinear failed to converge, increase the number of iterations.\n",
      "  \"the number of iterations.\", ConvergenceWarning)\n"
     ]
    },
    {
     "data": {
      "text/plain": [
       "GridSearchCV(cv=5, estimator=LogisticRegression(),\n",
       "             param_grid={'C': array([ 1., 10.]), 'penalty': ['l1', 'l2'],\n",
       "                         'solver': ['liblinear']},\n",
       "             scoring='f1')"
      ]
     },
     "execution_count": 88,
     "metadata": {},
     "output_type": "execute_result"
    }
   ],
   "source": [
    "model.fit(X_train, y_train)"
   ]
  },
  {
   "cell_type": "code",
   "execution_count": 89,
   "metadata": {},
   "outputs": [
    {
     "name": "stdout",
     "output_type": "stream",
     "text": [
      "{'C': 1.0, 'penalty': 'l1', 'solver': 'liblinear'}\n"
     ]
    }
   ],
   "source": [
    "best_parameters = model.best_params_\n",
    "print(best_parameters)"
   ]
  },
  {
   "cell_type": "markdown",
   "metadata": {},
   "source": [
    "## Exercise 28: Preparing data for Support Vector Classifier (SVC) Model "
   ]
  },
  {
   "cell_type": "code",
   "execution_count": 90,
   "metadata": {},
   "outputs": [],
   "source": [
    "#Values must be scaled to fit to the model \n",
    "import pandas as pd \n",
    "from sklearn.utils import shuffle\n",
    "from sklearn.model_selection import train_test_split\n",
    "\n",
    "df = pd.read_csv('weather.csv')\n",
    "df_dummies = pd.get_dummies(df, drop_first=True)\n",
    "df_shuffled = shuffle(df_dummies, random_state=42)\n",
    "\n",
    "#Seperate the X and y \n",
    "DV = 'Rain'\n",
    "X = df_shuffled.drop(DV, axis = 1)\n",
    "y = df_shuffled[DV]\n",
    "\n",
    "#Split\n",
    "X_train, X_test, y_train, y_test = train_test_split(X, y, test_size=0.33, random_state=42)\n",
    "\n",
    "#Scaling \n",
    "from sklearn.preprocessing import StandardScaler \n",
    "\n",
    "model = StandardScaler()\n",
    "\n",
    "X_train_scaled = model.fit_transform(X_train)\n",
    "X_test_scaled = model.transform(X_test)"
   ]
  },
  {
   "cell_type": "markdown",
   "metadata": {},
   "source": [
    "## Exercise 29: Tuning the SVC Model Using Grid Search"
   ]
  },
  {
   "cell_type": "code",
   "execution_count": 93,
   "metadata": {},
   "outputs": [],
   "source": [
    "import numpy as np\n",
    "\n",
    "grid = {'C': np.linspace(1, 10, 10),\n",
    "        'kernel': ['linear', 'poly', 'rbf', 'sigmoid']}\n",
    "\n",
    "#Instantiate the GridSearchCV and SVC\n",
    "from sklearn.model_selection import GridSearchCV\n",
    "from sklearn.svm import SVC \n",
    "\n",
    "model = GridSearchCV(SVC(gamma='auto'), grid, scoring='f1', cv=5)"
   ]
  },
  {
   "cell_type": "code",
   "execution_count": 94,
   "metadata": {},
   "outputs": [
    {
     "data": {
      "text/plain": [
       "GridSearchCV(cv=5, estimator=SVC(gamma='auto'),\n",
       "             param_grid={'C': array([ 1.,  2.,  3.,  4.,  5.,  6.,  7.,  8.,  9., 10.]),\n",
       "                         'kernel': ['linear', 'poly', 'rbf', 'sigmoid']},\n",
       "             scoring='f1')"
      ]
     },
     "execution_count": 94,
     "metadata": {},
     "output_type": "execute_result"
    }
   ],
   "source": [
    "#Fit the model\n",
    "model.fit(X_train_scaled, y_train)"
   ]
  },
  {
   "cell_type": "code",
   "execution_count": 95,
   "metadata": {},
   "outputs": [
    {
     "name": "stdout",
     "output_type": "stream",
     "text": [
      "{'C': 1.0, 'kernel': 'linear'}\n"
     ]
    }
   ],
   "source": [
    "best_parameters = model.best_params_\n",
    "print(best_parameters)"
   ]
  },
  {
   "cell_type": "code",
   "execution_count": 97,
   "metadata": {},
   "outputs": [
    {
     "name": "stdout",
     "output_type": "stream",
     "text": [
      "            Predicted No  Predicted Yes  Total\n",
      "Actual No             28            355    383\n",
      "Actual Yes             0           2917   2917\n",
      "Total                 28           3272   3300\n",
      "              precision    recall  f1-score   support\n",
      "\n",
      "           0       1.00      0.07      0.14       383\n",
      "           1       0.89      1.00      0.94      2917\n",
      "\n",
      "    accuracy                           0.89      3300\n",
      "   macro avg       0.95      0.54      0.54      3300\n",
      "weighted avg       0.90      0.89      0.85      3300\n",
      "\n"
     ]
    }
   ],
   "source": [
    "pred_class = model.predict(X_test)\n",
    "\n",
    "#Evaluate using confusion matrix\n",
    "from sklearn.metrics import confusion_matrix \n",
    "import numpy as np\n",
    "\n",
    "cm = pd.DataFrame(confusion_matrix(y_test, pred_class))\n",
    "cm['Total'] = np.sum(cm, axis=1)\n",
    "cm = cm.append(np.sum(cm, axis=0), ignore_index = True)\n",
    "cm.columns = ['Predicted No', 'Predicted Yes', 'Total']\n",
    "cm = cm.set_index([['Actual No', 'Actual Yes', 'Total']])\n",
    "print(cm)\n",
    "\n",
    "#generate classification report\n",
    "from sklearn.metrics import classification_report \n",
    "\n",
    "print(classification_report(y_test, pred_class))"
   ]
  },
  {
   "cell_type": "markdown",
   "metadata": {},
   "source": [
    "## Activity 8: Preparing Data for a Decision Tree Classifier "
   ]
  },
  {
   "cell_type": "code",
   "execution_count": 128,
   "metadata": {},
   "outputs": [],
   "source": [
    "import pandas as pd \n",
    "from sklearn.utils import shuffle\n",
    "from sklearn.model_selection import train_test_split\n",
    "from sklearn.preprocessing import StandardScaler\n",
    "\n",
    "df = pd.read_csv('weather.csv')\n",
    "#Create dummies and shuffle data\n",
    "df_dummy = pd.get_dummies(df, drop_first=True)\n",
    "df_shuffle = shuffle(df_dummies, random_state = 42)\n",
    "#Split features \n",
    "DV = 'Rain'\n",
    "X = df_shuffle.drop(DV, axis = 1)\n",
    "y = df_shuffle[DV]\n",
    "#Train_test_split\n",
    "X_train, X_test, y_train, y_test = train_test_split(X, y, test_size = 0.2, random_state=42)\n",
    "#Scale the X-data \n",
    "model = StandardScaler()\n",
    "X_train_scaled = model.fit_transform(X_train)\n",
    "X_test_scaled = model.transform(X_test)"
   ]
  },
  {
   "cell_type": "markdown",
   "metadata": {},
   "source": [
    "## Exercise 30: Tuning a Decision Tree Classifier Using Grid Search "
   ]
  },
  {
   "cell_type": "code",
   "execution_count": 106,
   "metadata": {},
   "outputs": [],
   "source": [
    "import numpy as np \n",
    "\n",
    "grid = {'criterion': ['gini', 'entropy'],\n",
    "        'min_weight_fraction_leaf': np.linspace(0.0, 0.5, 10),\n",
    "        'min_impurity_decrease': np.linspace(0.0, 1.0, 10),\n",
    "        'class_weight': [None, 'balanced']\n",
    "        #'presort': [True, False]\n",
    "       }\n",
    "\n",
    "from sklearn.model_selection import GridSearchCV\n",
    "from sklearn.tree import DecisionTreeClassifier \n",
    "\n",
    "model = GridSearchCV(DecisionTreeClassifier(), grid, scoring='f1', cv=5)"
   ]
  },
  {
   "cell_type": "code",
   "execution_count": 107,
   "metadata": {},
   "outputs": [
    {
     "data": {
      "text/plain": [
       "GridSearchCV(cv=5, estimator=DecisionTreeClassifier(),\n",
       "             param_grid={'class_weight': [None, 'balanced'],\n",
       "                         'criterion': ['gini', 'entropy'],\n",
       "                         'min_impurity_decrease': array([0.        , 0.11111111, 0.22222222, 0.33333333, 0.44444444,\n",
       "       0.55555556, 0.66666667, 0.77777778, 0.88888889, 1.        ]),\n",
       "                         'min_weight_fraction_leaf': array([0.        , 0.05555556, 0.11111111, 0.16666667, 0.22222222,\n",
       "       0.27777778, 0.33333333, 0.38888889, 0.44444444, 0.5       ])},\n",
       "             scoring='f1')"
      ]
     },
     "execution_count": 107,
     "metadata": {},
     "output_type": "execute_result"
    }
   ],
   "source": [
    "model.fit(X_train_scaled, y_train)"
   ]
  },
  {
   "cell_type": "code",
   "execution_count": 111,
   "metadata": {},
   "outputs": [
    {
     "name": "stdout",
     "output_type": "stream",
     "text": [
      "{'class_weight': None, 'criterion': 'gini', 'min_impurity_decrease': 0.0, 'min_weight_fraction_leaf': 0.0}\n"
     ]
    }
   ],
   "source": [
    "bp = model.best_params_\n",
    "print(model.best_params_)"
   ]
  },
  {
   "cell_type": "markdown",
   "metadata": {},
   "source": [
    "## Exercise 31: Programmatically Extracting Tuned Hyperparameters from GridSearch"
   ]
  },
  {
   "cell_type": "code",
   "execution_count": 130,
   "metadata": {},
   "outputs": [
    {
     "data": {
      "text/plain": [
       "{'ccp_alpha': 0.0,\n",
       " 'class_weight': None,\n",
       " 'criterion': 'gini',\n",
       " 'max_depth': None,\n",
       " 'max_features': None,\n",
       " 'max_leaf_nodes': None,\n",
       " 'min_impurity_decrease': 0.0,\n",
       " 'min_impurity_split': None,\n",
       " 'min_samples_leaf': 1,\n",
       " 'min_samples_split': 2,\n",
       " 'min_weight_fraction_leaf': 0.0,\n",
       " 'presort': 'deprecated',\n",
       " 'random_state': None,\n",
       " 'splitter': 'best'}"
      ]
     },
     "execution_count": 130,
     "metadata": {},
     "output_type": "execute_result"
    }
   ],
   "source": [
    "from sklearn.tree import DecisionTreeClassifier \n",
    "\n",
    "model = DecisionTreeClassifier(class_weight = bp['class_weight'], criterion = bp['criterion'],\n",
    "                               min_impurity_decrease = bp['min_impurity_decrease'],\n",
    "                               min_weight_fraction_leaf = bp['min_weight_fraction_leaf'])\n",
    "\n",
    "model.fit(X_train_scaled, y_train)\n",
    "\n",
    "model.get_params()"
   ]
  },
  {
   "cell_type": "code",
   "execution_count": 131,
   "metadata": {},
   "outputs": [
    {
     "name": "stdout",
     "output_type": "stream",
     "text": [
      "[1. 0. 0. 0. 0. 0. 0. 0.]\n"
     ]
    }
   ],
   "source": [
    "print(model.feature_importances_)"
   ]
  },
  {
   "cell_type": "markdown",
   "metadata": {},
   "source": [
    "## Activity 9: Generating predictions"
   ]
  },
  {
   "cell_type": "code",
   "execution_count": 132,
   "metadata": {},
   "outputs": [
    {
     "name": "stdout",
     "output_type": "stream",
     "text": [
      "            Predicted No  Predicted Yes  Total\n",
      "Actual No            237              0    237\n",
      "Actual Yes             0           1763   1763\n",
      "Total                237           1763   2000\n",
      "              precision    recall  f1-score   support\n",
      "\n",
      "           0       1.00      1.00      1.00       237\n",
      "           1       1.00      1.00      1.00      1763\n",
      "\n",
      "    accuracy                           1.00      2000\n",
      "   macro avg       1.00      1.00      1.00      2000\n",
      "weighted avg       1.00      1.00      1.00      2000\n",
      "\n"
     ]
    }
   ],
   "source": [
    "pred_class = model.predict(X_test_scaled)\n",
    "\n",
    "#Evaluate using confusion matrix\n",
    "from sklearn.metrics import confusion_matrix \n",
    "import numpy as np\n",
    "\n",
    "cm = pd.DataFrame(confusion_matrix(y_test, pred_class))\n",
    "cm['Total'] = np.sum(cm, axis=1)\n",
    "cm = cm.append(np.sum(cm, axis=0), ignore_index = True)\n",
    "cm.columns = ['Predicted No', 'Predicted Yes', 'Total']\n",
    "cm = cm.set_index([['Actual No', 'Actual Yes', 'Total']])\n",
    "print(cm)\n",
    "\n",
    "#generate classification report\n",
    "from sklearn.metrics import classification_report \n",
    "\n",
    "print(classification_report(y_test, pred_class))"
   ]
  },
  {
   "cell_type": "code",
   "execution_count": 127,
   "metadata": {},
   "outputs": [
    {
     "name": "stdout",
     "output_type": "stream",
     "text": [
      "StandardScaler()\n"
     ]
    }
   ],
   "source": [
    "print(X_test_scaled)"
   ]
  },
  {
   "cell_type": "markdown",
   "metadata": {},
   "source": [
    "## Exercise 32: Preparing Data for a Random Forest Regressor"
   ]
  },
  {
   "cell_type": "code",
   "execution_count": 133,
   "metadata": {},
   "outputs": [],
   "source": [
    "import pandas as pd \n",
    "from sklearn.utils import shuffle\n",
    "from sklearn.model_selection import train_test_split\n",
    "from sklearn.preprocessing import StandardScaler\n",
    "\n",
    "df = pd.read_csv('weather.csv')\n",
    "#Create dummies and shuffle data\n",
    "df_dummy = pd.get_dummies(df, drop_first=True)\n",
    "df_shuffle = shuffle(df_dummies, random_state = 42)\n",
    "#Split features \n",
    "DV = 'Temperature_c'\n",
    "X = df_shuffle.drop(DV, axis = 1)\n",
    "y = df_shuffle[DV]\n",
    "#Train_test_split\n",
    "X_train, X_test, y_train, y_test = train_test_split(X, y, test_size = 0.2, random_state=42)\n",
    "#Scale the X-data \n",
    "model = StandardScaler()\n",
    "X_train_scaled = model.fit_transform(X_train)\n",
    "X_test_scaled = model.transform(X_test)"
   ]
  },
  {
   "cell_type": "code",
   "execution_count": 143,
   "metadata": {},
   "outputs": [],
   "source": [
    "import numpy as np \n",
    "\n",
    "grid = {'criterion': ['mse', 'mae'],\n",
    "        'max_features': ['auto', 'sqrt', 'log2', None],\n",
    "        'min_impurity_decrease': np.linspace(0.0, 1.0, 10),\n",
    "        'bootstrap': [True, False],\n",
    "        'warm_start': [True, False]\n",
    "       }\n",
    "\n",
    "#Instantiate the model\n",
    "from sklearn.model_selection import RandomizedSearchCV\n",
    "from sklearn.ensemble import RandomForestRegressor\n",
    "\n",
    "model = RandomizedSearchCV(RandomForestRegressor(), grid, scoring='explained_variance', \n",
    "                           cv=5, n_jobs = -1, verbose=10, n_iter=10)"
   ]
  },
  {
   "cell_type": "code",
   "execution_count": 144,
   "metadata": {},
   "outputs": [
    {
     "name": "stdout",
     "output_type": "stream",
     "text": [
      "Fitting 5 folds for each of 10 candidates, totalling 50 fits\n"
     ]
    },
    {
     "name": "stderr",
     "output_type": "stream",
     "text": [
      "[Parallel(n_jobs=-1)]: Using backend LokyBackend with 8 concurrent workers.\n",
      "[Parallel(n_jobs=-1)]: Done   2 tasks      | elapsed:    2.2s\n",
      "[Parallel(n_jobs=-1)]: Done   9 tasks      | elapsed:    4.2s\n",
      "[Parallel(n_jobs=-1)]: Done  16 tasks      | elapsed:  2.6min\n",
      "[Parallel(n_jobs=-1)]: Done  25 tasks      | elapsed:  3.0min\n",
      "[Parallel(n_jobs=-1)]: Done  34 tasks      | elapsed:  3.1min\n",
      "[Parallel(n_jobs=-1)]: Done  41 out of  50 | elapsed:  3.3min remaining:   43.0s\n",
      "[Parallel(n_jobs=-1)]: Done  47 out of  50 | elapsed:  3.6min remaining:   13.8s\n",
      "[Parallel(n_jobs=-1)]: Done  50 out of  50 | elapsed:  3.7min finished\n"
     ]
    },
    {
     "data": {
      "text/plain": [
       "RandomizedSearchCV(cv=5, estimator=RandomForestRegressor(), n_jobs=-1,\n",
       "                   param_distributions={'bootstrap': [True, False],\n",
       "                                        'criterion': ['mse', 'mae'],\n",
       "                                        'max_features': ['auto', 'sqrt', 'log2',\n",
       "                                                         None],\n",
       "                                        'min_impurity_decrease': array([0.        , 0.11111111, 0.22222222, 0.33333333, 0.44444444,\n",
       "       0.55555556, 0.66666667, 0.77777778, 0.88888889, 1.        ]),\n",
       "                                        'warm_start': [True, False]},\n",
       "                   scoring='explained_variance', verbose=10)"
      ]
     },
     "execution_count": 144,
     "metadata": {},
     "output_type": "execute_result"
    }
   ],
   "source": [
    "model.fit(X_train_scaled, y_train)"
   ]
  },
  {
   "cell_type": "code",
   "execution_count": 145,
   "metadata": {},
   "outputs": [
    {
     "name": "stdout",
     "output_type": "stream",
     "text": [
      "{'warm_start': False, 'min_impurity_decrease': 0.0, 'max_features': 'sqrt', 'criterion': 'mse', 'bootstrap': True}\n"
     ]
    }
   ],
   "source": [
    "bp = model.best_params_\n",
    "print(bp)"
   ]
  },
  {
   "cell_type": "code",
   "execution_count": 146,
   "metadata": {},
   "outputs": [
    {
     "data": {
      "text/plain": [
       "RandomForestRegressor(max_features='sqrt')"
      ]
     },
     "execution_count": 146,
     "metadata": {},
     "output_type": "execute_result"
    }
   ],
   "source": [
    "#Create best RandomForestModel\n",
    "model = RandomForestRegressor(criterion=bp['criterion'], max_features=bp['max_features'], \n",
    "                              min_impurity_decrease=bp['min_impurity_decrease'], bootstrap=bp['bootstrap'],\n",
    "                              warm_start=bp['warm_start'])\n",
    "\n",
    "model.fit(X_train_scaled, y_train)"
   ]
  },
  {
   "cell_type": "code",
   "execution_count": 151,
   "metadata": {},
   "outputs": [
    {
     "data": {
      "image/png": "[encoded data removed]",
      "text/plain": [
       "<Figure size 360x360 with 1 Axes>"
      ]
     },
     "metadata": {
      "needs_background": "light"
     },
     "output_type": "display_data"
    }
   ],
   "source": [
    "#Plot importance \n",
    "import pandas as pd \n",
    "import matplotlib.pyplot as plt \n",
    "\n",
    "df_imp = pd.DataFrame({'Importance': list(model.feature_importances_)}, index=X.columns)\n",
    "df_imp_sorted = df_imp.sort_values(by=('Importance'), ascending = True)\n",
    "df_imp_sorted.plot.barh(figsize=(5,5))\n",
    "\n",
    "plt.title('Relative Feature Importance')\n",
    "plt.xlabel('Relative Importance')\n",
    "plt.ylabel('Variable')\n",
    "plt.legend(loc=4)\n",
    "plt.show()"
   ]
  },
  {
   "cell_type": "code",
   "execution_count": 152,
   "metadata": {},
   "outputs": [
    {
     "data": {
      "image/png": "[encoded data removed]",
      "text/plain": [
       "<Figure size 432x288 with 1 Axes>"
      ]
     },
     "metadata": {
      "needs_background": "light"
     },
     "output_type": "display_data"
    },
    {
     "data": {
      "image/png": "[encoded data removed]",
      "text/plain": [
       "<Figure size 432x288 with 1 Axes>"
      ]
     },
     "metadata": {
      "needs_background": "light"
     },
     "output_type": "display_data"
    },
    {
     "name": "stdout",
     "output_type": "stream",
     "text": [
      "      Metric  Value\n",
      "0        MAE  2.375\n",
      "1        MSE  9.279\n",
      "2       RMSE  3.046\n",
      "3  R-Squared  0.902\n"
     ]
    }
   ],
   "source": [
    "#Generate predictions\n",
    "pred = model.predict(X_test_scaled)\n",
    "\n",
    "#Common way to evaluate predicted values is by correlation \n",
    "import matplotlib.pyplot as plt\n",
    "from scipy.stats import pearsonr\n",
    "\n",
    "plt.scatter(y_test, pred)\n",
    "plt.xlabel('Y test (True values)')\n",
    "plt.ylabel('Predicted Values')\n",
    "plt.title('Predicted vs. Actual Values (r= {0:.2f})'.format(pearsonr(y_test, pred)[0], 2))\n",
    "plt.show()\n",
    "\n",
    "#Investigate the residuals with density plot\n",
    "import seaborn as sns \n",
    "from scipy.stats import shapiro\n",
    "\n",
    "sns.distplot((y_test - pred), bins = 50)\n",
    "plt.xlabel('Residuals')\n",
    "plt.ylabel('Density')\n",
    "plt.title(f'Histogram of Residuals (Shapiro W p-value = {shapiro(y_test - pred)[1]:.3f})')\n",
    "plt.show()\n",
    "\n",
    "#Compute metrics\n",
    "from sklearn import metrics \n",
    "import numpy as np \n",
    "\n",
    "metrics_df = pd.DataFrame({'Metric': ['MAE', 'MSE', 'RMSE', 'R-Squared'],\n",
    "                           'Value' : [metrics.mean_absolute_error(y_test, pred),\n",
    "                                      metrics.mean_squared_error(y_test, pred),\n",
    "                                      np.sqrt(metrics.mean_squared_error(y_test, pred)),\n",
    "                                      metrics.explained_variance_score(y_test, pred)]}).round(3)\n",
    "\n",
    "print(metrics_df)"
   ]
  },
  {
   "cell_type": "code",
   "execution_count": null,
   "metadata": {},
   "outputs": [],
   "source": []
  }
 ],
 "metadata": {
  "kernelspec": {
   "display_name": "Python 3",
   "language": "python",
   "name": "python3"
  },
  "language_info": {
   "codemirror_mode": {
    "name": "ipython",
    "version": 3
   },
   "file_extension": ".py",
   "mimetype": "text/x-python",
   "name": "python",
   "nbconvert_exporter": "python",
   "pygments_lexer": "ipython3",
   "version": "3.7.7"
  }
 },
 "nbformat": 4,
 "nbformat_minor": 4
}
